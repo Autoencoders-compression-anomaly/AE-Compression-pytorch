{
 "cells": [
  {
   "cell_type": "code",
   "execution_count": 126,
   "metadata": {},
   "outputs": [
    {
     "data": {
      "image/png": "[encoded data removed]",
      "text/plain": [
       "<Figure size 432x432 with 1 Axes>"
      ]
     },
     "metadata": {
      "needs_background": "light"
     },
     "output_type": "display_data"
    }
   ],
   "source": [
    "import numpy as np\n",
    "import matplotlib.pyplot as plt\n",
    "\n",
    "data = list(np.linspace(0,1,100000))\n",
    "#data = np.random.normal(size=100000)\n",
    "\n",
    "#data = [x for x in data if x > 0]\n",
    "\n",
    "data_compressed = [round(x,2) for x in data]\n",
    "\n",
    "plt.figure(figsize=(6,6))\n",
    "\n",
    "def n(x,l1,l2):\n",
    "    return l1*(np.ceil(l2/l1*(x/l1+1))-np.ceil(l2/l1*(x/l1-1))-1)\n",
    "\n",
    "n_bins = 13\n",
    "bin_edges = list(np.linspace(0,1,n_bins+1))\n",
    "\n",
    "plt.suptitle('# of bins = '+str(n_bins))\n",
    "\n",
    "plt.axis(xmin=0,xmax=1)\n",
    "_, _, _ = plt.hist(data, bins=bin_edges, histtype=\"step\",linewidth=4, density=True)\n",
    "plt.hist(data_compressed,bins=bin_edges, histtype=\"step\", linewidth=2, density=True)\n",
    "#plt.hist(data_compressed,bins=np.linspace(0,1,1000), histtype=\"step\")\n",
    "\n",
    "plt.savefig('uniformpeaks')\n",
    "\n",
    "plt.show()"
   ]
  },
  {
   "cell_type": "code",
   "execution_count": 125,
   "metadata": {},
   "outputs": [
    {
     "data": {
      "text/plain": [
       "<Figure size 432x288 with 0 Axes>"
      ]
     },
     "metadata": {},
     "output_type": "display_data"
    },
    {
     "data": {
      "image/png": "[encoded data removed]",
      "text/plain": [
       "<Figure size 432x432 with 1 Axes>"
      ]
     },
     "metadata": {
      "needs_background": "light"
     },
     "output_type": "display_data"
    }
   ],
   "source": [
    "import numpy as np\n",
    "\n",
    "def n(x,l1,l2):\n",
    "    return l1*(np.ceil(x/l1+l2/l1/2)-np.ceil(x/l1-l2/l1/2)-1)\n",
    "\n",
    "data = np.linspace(0,1,100000)\n",
    "\n",
    "decimals = 2\n",
    "\n",
    "data_compressed = [round(x,decimals) for x in list(data)]\n",
    "\n",
    "x = []\n",
    "y = []\n",
    "\n",
    "xpredicted = []\n",
    "ypredicted = []\n",
    "predictedheight = []\n",
    "\n",
    "for n_bins in range(1,50):\n",
    "\n",
    "    #bin_edges = list(np.arange(-1/n_bins/2,1+1/n_bins/2,1/n_bins)) \n",
    "    bin_edges = list(np.linspace(0,1,n_bins+1))\n",
    "    \n",
    "    #plt.hist(data_compressed,bins=np.linspace(0,1,10000), color='blue',histtype=\"step\")\n",
    "    hist_data, _, _ = plt.hist(data, bins=n_bins,color='black', histtype=\"step\",linewidth=4)\n",
    "    #print(sum(hist_data))\n",
    "    hist_datac, edgesc, _ = plt.hist(data_compressed,bins=bin_edges,color='orange', histtype=\"step\",linewidth=2)\n",
    "    #print(sum(hist_data))\n",
    "\n",
    "    plt.suptitle(\"# of bins = \" + str(n_bins))\n",
    "\n",
    "    mean = np.mean(hist_data)\n",
    "    #print(mean)\n",
    "    predictedmean = 0\n",
    "    \n",
    "    for i in range(len(hist_datac)):\n",
    "        predictedmean += n((edgesc[i+1]+edgesc[i])/2,0.01,1/n_bins)\n",
    "        \n",
    "        if (hist_datac[i]) > mean*1.1:\n",
    "            x.append(n_bins)\n",
    "            y.append((edgesc[i+1]+edgesc[i])/2)\n",
    "    \n",
    "    predictedmean = predictedmean / len(hist_datac)\n",
    "    \n",
    "    for i in range(len(hist_datac)):\n",
    "        predicted = n((edgesc[i+1]+edgesc[i])/2,0.01,1/n_bins)\n",
    "        if predicted > predictedmean*1.1:\n",
    "            xpredicted.append(n_bins)\n",
    "            ypredicted.append((edgesc[i+1]+edgesc[i])/2)\n",
    "            predictedheight.append(predicted)\n",
    "            \n",
    "\n",
    "    #plt.axis(xmin=0,xmax=5)\n",
    "    plt.close()\n",
    "    #plt.show()\n",
    "\n",
    "plt.suptitle(\"Peaks from binning after discretization to 3 decimal places\")\n",
    "    \n",
    "plt.figure(figsize=(6,6))\n",
    "plt.scatter(x,y,marker='X', label='Simulation')\n",
    "plt.scatter(xpredicted,ypredicted,marker='+', label='Prediction')\n",
    "plt.xlabel(\"# of bins\")\n",
    "plt.ylabel(\"Position of peak\")\n",
    "plt.legend(loc=4)\n",
    "plt.savefig('doublequantscatter')\n",
    "plt.show()\n",
    "\n",
    "\n",
    "#plt.scatter(ypredicted, predictedheight)\n",
    "#plt.yscale('log')\n",
    "#plt.show()"
   ]
  },
  {
   "cell_type": "code",
   "execution_count": null,
   "metadata": {},
   "outputs": [],
   "source": []
  }
 ],
 "metadata": {
  "kernelspec": {
   "display_name": "Python 3",
   "language": "python",
   "name": "python3"
  },
  "language_info": {
   "codemirror_mode": {
    "name": "ipython",
    "version": 3
   },
   "file_extension": ".py",
   "mimetype": "text/x-python",
   "name": "python",
   "nbconvert_exporter": "python",
   "pygments_lexer": "ipython3",
   "version": "3.7.2"
  }
 },
 "nbformat": 4,
 "nbformat_minor": 2
}
