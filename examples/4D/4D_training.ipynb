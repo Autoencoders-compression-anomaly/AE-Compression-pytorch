{
 "cells": [
  {
   "cell_type": "code",
   "execution_count": 1,
   "metadata": {},
   "outputs": [],
   "source": [
    "%matplotlib inline\n",
    "\n",
    "import sys\n",
    "import numpy as np\n",
    "import pandas as pd\n",
    "import matplotlib.pyplot as plt\n",
    "\n",
    "import torch\n",
    "import torch.nn as nn\n",
    "import torch.optim as optim\n",
    "import torch.utils.data\n",
    "from torch.autograd import Variable\n",
    "\n",
    "from torch.utils.data import TensorDataset\n",
    "from torch.utils.data import DataLoader\n",
    "\n",
    "from fastai import data_block, basic_train, basic_data\n",
    "from fastai.callbacks import ActivationStats\n",
    "import fastai\n",
    "\n",
    "import matplotlib as mpl"
   ]
  },
  {
   "cell_type": "code",
   "execution_count": 2,
   "metadata": {},
   "outputs": [],
   "source": [
    "from HEPAutoencoders.nn_utils import AE_3D_200\n",
    "from HEPAutoencoders.utils import plot_activations"
   ]
  },
  {
   "cell_type": "code",
   "execution_count": 4,
   "metadata": {},
   "outputs": [
    {
     "data": {
      "text/html": [
       "<div>\n",
       "<style scoped>\n",
       "    .dataframe tbody tr th:only-of-type {\n",
       "        vertical-align: middle;\n",
       "    }\n",
       "\n",
       "    .dataframe tbody tr th {\n",
       "        vertical-align: top;\n",
       "    }\n",
       "\n",
       "    .dataframe thead th {\n",
       "        text-align: right;\n",
       "    }\n",
       "</style>\n",
       "<table border=\"1\" class=\"dataframe\">\n",
       "  <thead>\n",
       "    <tr style=\"text-align: right;\">\n",
       "      <th></th>\n",
       "      <th>pT</th>\n",
       "      <th>eta</th>\n",
       "      <th>phi</th>\n",
       "      <th>E</th>\n",
       "    </tr>\n",
       "  </thead>\n",
       "  <tbody>\n",
       "    <tr>\n",
       "      <th>1367643</th>\n",
       "      <td>300.752869</td>\n",
       "      <td>0.118391</td>\n",
       "      <td>-1.460827</td>\n",
       "      <td>303.719818</td>\n",
       "    </tr>\n",
       "    <tr>\n",
       "      <th>1739612</th>\n",
       "      <td>79.819145</td>\n",
       "      <td>4.535507</td>\n",
       "      <td>-1.185196</td>\n",
       "      <td>3722.832764</td>\n",
       "    </tr>\n",
       "    <tr>\n",
       "      <th>546066</th>\n",
       "      <td>220.472305</td>\n",
       "      <td>1.314261</td>\n",
       "      <td>-0.943992</td>\n",
       "      <td>440.195190</td>\n",
       "    </tr>\n",
       "    <tr>\n",
       "      <th>213212</th>\n",
       "      <td>74.533775</td>\n",
       "      <td>0.010658</td>\n",
       "      <td>-0.424795</td>\n",
       "      <td>74.770332</td>\n",
       "    </tr>\n",
       "    <tr>\n",
       "      <th>150544</th>\n",
       "      <td>220.668121</td>\n",
       "      <td>2.432910</td>\n",
       "      <td>-2.308348</td>\n",
       "      <td>1266.681030</td>\n",
       "    </tr>\n",
       "    <tr>\n",
       "      <th>574837</th>\n",
       "      <td>159.841782</td>\n",
       "      <td>0.731125</td>\n",
       "      <td>-1.150598</td>\n",
       "      <td>207.133514</td>\n",
       "    </tr>\n",
       "    <tr>\n",
       "      <th>1171687</th>\n",
       "      <td>306.125305</td>\n",
       "      <td>0.702473</td>\n",
       "      <td>0.437615</td>\n",
       "      <td>385.713013</td>\n",
       "    </tr>\n",
       "    <tr>\n",
       "      <th>1608254</th>\n",
       "      <td>189.011673</td>\n",
       "      <td>-1.387443</td>\n",
       "      <td>0.490634</td>\n",
       "      <td>403.126709</td>\n",
       "    </tr>\n",
       "    <tr>\n",
       "      <th>1618830</th>\n",
       "      <td>194.996719</td>\n",
       "      <td>-1.022815</td>\n",
       "      <td>-1.560437</td>\n",
       "      <td>306.534515</td>\n",
       "    </tr>\n",
       "    <tr>\n",
       "      <th>637947</th>\n",
       "      <td>186.887146</td>\n",
       "      <td>-0.621282</td>\n",
       "      <td>-0.465523</td>\n",
       "      <td>226.002701</td>\n",
       "    </tr>\n",
       "  </tbody>\n",
       "</table>\n",
       "</div>"
      ],
      "text/plain": [
       "                 pT       eta       phi            E\n",
       "1367643  300.752869  0.118391 -1.460827   303.719818\n",
       "1739612   79.819145  4.535507 -1.185196  3722.832764\n",
       "546066   220.472305  1.314261 -0.943992   440.195190\n",
       "213212    74.533775  0.010658 -0.424795    74.770332\n",
       "150544   220.668121  2.432910 -2.308348  1266.681030\n",
       "574837   159.841782  0.731125 -1.150598   207.133514\n",
       "1171687  306.125305  0.702473  0.437615   385.713013\n",
       "1608254  189.011673 -1.387443  0.490634   403.126709\n",
       "1618830  194.996719 -1.022815 -1.560437   306.534515\n",
       "637947   186.887146 -0.621282 -0.465523   226.002701"
      ]
     },
     "execution_count": 4,
     "metadata": {},
     "output_type": "execute_result"
    }
   ],
   "source": [
    "# Load data\n",
    "train = pd.read_pickle('processed_data/train.pkl')\n",
    "test = pd.read_pickle('processed_data/test.pkl')\n",
    "\n",
    "n_features = len(train.loc[0])\n",
    "\n",
    "train.head(10)"
   ]
  },
  {
   "cell_type": "code",
   "execution_count": null,
   "metadata": {},
   "outputs": [],
   "source": [
    "import matplotlib.pyplot as plt\n",
    "import numpy as np\n",
    "\n",
    "plt.close('all')\n",
    "unit_list = ['[MeV]', '[rad]', '[rad]', '[MeV]']\n",
    "variable_list = [r'$p_T$', r'$\\eta$', r'$\\phi$', r'$E$']\n",
    "line_style = ['--', '-']\n",
    "colors = ['orange', 'c']\n",
    "markers = ['*', 's']\n",
    "\n",
    "branches=[\"pT\",\"eta\",\"phi\",\"E\"]\n",
    "\n",
    "%matplotlib inline\n",
    "n_bins = 200\n",
    "alph = 0.8\n",
    "#for kk in np.arange(4):\n",
    "for kk in [0,1,2,3]:\n",
    "    plt.figure(kk + 4)\n",
    "    plt.figure(figsize=(6,6))\n",
    "    plt.ticklabel_format(style='sci', axis='x', scilimits=(0,0))\n",
    "    n_hist_data, bin_edges, _ = plt.hist(train[branches[kk]], color=colors[1], label='Input', alpha=1, bins=n_bins)\n",
    "    #n_hist_pred, _, _ = plt.hist(pred[:, kk], color=colors[0], label='Output', alpha=alph, bins=bin_edges)\n",
    "    #plt.suptitle(branches[kk])\n",
    "    plt.xlabel(variable_list[kk] + unit_list[kk])\n",
    "    plt.ylabel('Number of events')\n",
    "    #ms.sciy()\n",
    "    #plt.xlim(0, 0.25*1e4)\n",
    "    # plt.yscale('log')\n",
    "    #plt.legend(loc=4)\n",
    "    fig_name = 'trainforever_hist_%s' % train.columns[kk]\n",
    "    plt.tight_layout()"
   ]
  },
  {
   "cell_type": "code",
   "execution_count": null,
   "metadata": {},
   "outputs": [],
   "source": [
    "# Normalize\n",
    "train_mean = train.mean()\n",
    "train_std = train.std()\n",
    "\n",
    "train = (train - train_mean) / train_std\n",
    "test = (test - train_mean) / train_std\n",
    "\n",
    "train_x = train\n",
    "test_x = test\n",
    "train_y = train_x  # y = x since we are building and AE\n",
    "test_y = test_x\n",
    "\n",
    "train_ds = TensorDataset(torch.tensor(train_x.values), torch.tensor(train_y.values))\n",
    "valid_ds = TensorDataset(torch.tensor(test_x.values), torch.tensor(test_y.values))"
   ]
  },
  {
   "cell_type": "code",
   "execution_count": null,
   "metadata": {},
   "outputs": [],
   "source": [
    "plt.close('all')\n",
    "unit_list = ['[MeV]', '[rad]', '[rad]', '[MeV]']\n",
    "variable_list = [r'$p_T$', r'$\\eta$', r'$\\phi$', r'$E$']\n",
    "line_style = ['--', '-']\n",
    "colors = ['orange', 'c']\n",
    "markers = ['*', 's']\n",
    "\n",
    "branches=[\"pT\",\"eta\",\"phi\",\"E\"]\n",
    "\n",
    "%matplotlib inline\n",
    "n_bins = 200\n",
    "alph = 0.8\n",
    "#for kk in np.arange(4):\n",
    "for kk in [1,2]:\n",
    "    plt.figure(kk + 4)\n",
    "    plt.figure(figsize=(6,6))\n",
    "    #plt.ticklabel_format(style='sci', axis='x', scilimits=(0,0))\n",
    "    n_hist_data, bin_edges, _ = plt.hist(train[branches[kk]], color=colors[1], label='Input', alpha=1, bins=n_bins)\n",
    "    #n_hist_pred, _, _ = plt.hist(pred[:, kk], color=colors[0], label='Output', alpha=alph, bins=bin_edges)\n",
    "    #plt.suptitle(branches[kk])\n",
    "    plt.xlabel(variable_list[kk])\n",
    "    plt.ylabel('Number of events')\n",
    "    #ms.sciy()\n",
    "    #plt.xlim(-5, 10)\n",
    "    # plt.yscale('log')\n",
    "    #plt.legend(loc=4)\n",
    "    fig_name = 'trainforever_hist_%s' % train.columns[kk]\n",
    "    plt.tight_layout()"
   ]
  },
  {
   "cell_type": "code",
   "execution_count": null,
   "metadata": {},
   "outputs": [],
   "source": [
    "def get_data(train_ds, valid_ds, bs):\n",
    "    return (\n",
    "        DataLoader(train_ds, batch_size=bs, shuffle=True),\n",
    "        DataLoader(valid_ds, batch_size=bs * 2),\n",
    "    )"
   ]
  },
  {
   "cell_type": "code",
   "execution_count": null,
   "metadata": {},
   "outputs": [],
   "source": [
    "train_dl, valid_dl = get_data(train_ds, valid_ds, bs=256)"
   ]
  },
  {
   "cell_type": "code",
   "execution_count": null,
   "metadata": {},
   "outputs": [],
   "source": [
    "db = basic_data.DataBunch(train_dl, valid_dl)"
   ]
  },
  {
   "cell_type": "code",
   "execution_count": null,
   "metadata": {},
   "outputs": [],
   "source": [
    "db"
   ]
  },
  {
   "cell_type": "code",
   "execution_count": null,
   "metadata": {},
   "outputs": [],
   "source": [
    "model = AE_3D_200()\n"
   ]
  },
  {
   "cell_type": "code",
   "execution_count": null,
   "metadata": {},
   "outputs": [],
   "source": [
    "loss_func = nn.MSELoss()"
   ]
  },
  {
   "cell_type": "code",
   "execution_count": null,
   "metadata": {},
   "outputs": [],
   "source": [
    "bn_wd = False  # Don't use weight decay fpr batchnorm layers\n",
    "true_wd = True  # wd will be used for all optimizers\n",
    "wd = 1e-6\n",
    "#wd = 0\n",
    "learn = basic_train.Learner(data=db, model=model, loss_func=loss_func, wd=wd, callback_fns=ActivationStats, bn_wd=bn_wd, true_wd=true_wd)"
   ]
  },
  {
   "cell_type": "code",
   "execution_count": null,
   "metadata": {},
   "outputs": [],
   "source": [
    "from fastai import train as tr\n",
    "tr.lr_find(learn)"
   ]
  },
  {
   "cell_type": "code",
   "execution_count": null,
   "metadata": {},
   "outputs": [],
   "source": [
    "learn.recorder.plot()"
   ]
  },
  {
   "cell_type": "code",
   "execution_count": null,
   "metadata": {},
   "outputs": [],
   "source": [
    "lr = 1e-7\n",
    "learn.fit(10, lr=lr, wd=wd)"
   ]
  },
  {
   "cell_type": "code",
   "execution_count": null,
   "metadata": {
    "scrolled": true
   },
   "outputs": [],
   "source": [
    "lr = 1e-4\n",
    "learn.fit(10, lr=lr, wd=wd)"
   ]
  },
  {
   "cell_type": "code",
   "execution_count": null,
   "metadata": {},
   "outputs": [],
   "source": [
    "learn.recorder.plot_losses()\n",
    "plt.yscale('log')"
   ]
  },
  {
   "cell_type": "code",
   "execution_count": null,
   "metadata": {},
   "outputs": [],
   "source": [
    "plt.plot(learn.recorder.val_losses, marker='>')"
   ]
  },
  {
   "cell_type": "code",
   "execution_count": null,
   "metadata": {
    "scrolled": false
   },
   "outputs": [],
   "source": [
    "plt.close('all')\n",
    "unit_list = ['[GeV]', '[rad]', '[rad]', '[GeV]']\n",
    "variable_list = [r'$p_T$', r'$\\eta$', r'$\\phi$', r'$E$']\n",
    "line_style = ['--', '-']\n",
    "colors = ['orange', 'c']\n",
    "markers = ['*', 's']\n",
    "\n",
    "model.to('cpu')\n",
    "\n",
    "# Histograms\n",
    "idxs = (0, 100000)  # Choose events to compare\n",
    "data = torch.tensor(test_x[idxs[0]:idxs[1]].values)\n",
    "pred = model(data).detach().numpy()\n",
    "pred = np.multiply(pred, train_std.values)\n",
    "pred = np.add(pred, train_mean.values)\n",
    "data = np.multiply(data, train_std.values)\n",
    "data = np.add(data, train_mean.values)\n",
    "\n",
    "alph = 0.8\n",
    "n_bins = 50\n",
    "for kk in np.arange(4):\n",
    "    plt.figure(kk + 4)\n",
    "    n_hist_data, bin_edges, _ = plt.hist(data[:, kk], color=colors[1], label='Input', alpha=1, bins=n_bins)\n",
    "    n_hist_pred, _, _ = plt.hist(pred[:, kk], color=colors[0], label='Output', alpha=alph, bins=bin_edges)\n",
    "    plt.suptitle(train_x.columns[kk])\n",
    "    plt.xlabel(variable_list[kk] + ' ' + unit_list[kk])\n",
    "    plt.ylabel('Number of events')\n",
    "    #ms.sciy()\n",
    "    # plt.yscale('log')\n",
    "    plt.legend()\n",
    "    fig_name = 'trainforever_hist_%s' % train.columns[kk]\n",
    "    #plt.savefig(curr_save_folder + fig_name)"
   ]
  },
  {
   "cell_type": "code",
   "execution_count": null,
   "metadata": {
    "scrolled": false
   },
   "outputs": [],
   "source": [
    "import HEPAutoencoders.utils as utils\n",
    "from scipy import stats\n",
    "residual_strings = [r'$(p_{T,out} - p_{T,in}) / p_{T,in}$',\n",
    "                        r'$(\\eta_{out} - \\eta_{in}) / \\eta_{in}$',\n",
    "                        r'$(\\phi_{out} - \\phi_{in}) / \\phi_{in}$',\n",
    "                        r'$(E_{out} - E_{in}) / E_{in}$']\n",
    "residuals = (pred - data.detach().numpy()) / data.detach().numpy()\n",
    "axisrange = (-.05, .05)\n",
    "#range=None\n",
    "for kk in np.arange(4):\n",
    "    plt.figure()\n",
    "    n_hist_pred, bin_edges, _ = plt.hist(\n",
    "        residuals[:, kk], label='Residuals', linestyle=line_style[0], alpha=alph, bins=100, range=axisrange)\n",
    "    plt.suptitle('Residuals of %s' % train.columns[kk])\n",
    "    plt.xlabel(residual_strings[kk])  # (train.columns[kk], train.columns[kk], train.columns[kk]))\n",
    "    plt.ylabel('Number of jets')\n",
    "    #ms.sciy()\n",
    "    #plt.yscale('log')\n",
    "    std = np.std(residuals[:, kk])\n",
    "    std_err = utils.std_error(residuals[:, kk])\n",
    "    mean = np.nanmean(residuals[:, kk])\n",
    "    sem = stats.sem(residuals[:, kk], nan_policy='omit')\n",
    "    ax = plt.gca()\n",
    "    plt.text(.75, .8, 'Mean = %f$\\pm$%f\\n$\\sigma$ = %f$\\pm$%f' % (mean, sem, std, std_err), bbox={'facecolor': 'white', 'alpha': 0.7, 'pad': 10},\n",
    "             horizontalalignment='center', verticalalignment='center', transform=ax.transAxes, fontsize=18)\n",
    "    fig_name = 'trainforever_residual_%s' % train.columns[kk]\n",
    "    #plt.savefig(curr_save_folder + fig_name)"
   ]
  },
  {
   "cell_type": "code",
   "execution_count": null,
   "metadata": {},
   "outputs": [],
   "source": [
    "import corner.corner as corner\n",
    "import seaborn as sns\n",
    "\n",
    "res_df = pd.DataFrame({'pt': residuals[:, 0], 'eta': residuals[:, 1], 'phi': residuals[:, 2], 'E': residuals[:, 3]})\n",
    "save = False\n",
    "\n",
    "# Generate a custom diverging colormap\n",
    "cmap = sns.diverging_palette(10, 220, as_cmap=True)\n",
    "#cmap = 'RdBu'\n",
    "norm = mpl.colors.Normalize(vmin=-1, vmax=1, clip=False)\n",
    "mappable = mpl.cm.ScalarMappable(norm=norm, cmap=cmap)\n",
    "\n",
    "group = ['pt', 'eta', 'phi', 'E']\n",
    "\n",
    "label_kwargs = {'fontsize': 20}\n",
    "title_kwargs = {\"fontsize\": 11}\n",
    "mpl.rcParams['lines.linewidth'] = 1\n",
    "mpl.rcParams['xtick.labelsize'] = 12\n",
    "mpl.rcParams['ytick.labelsize'] = 12\n",
    "group_arr = res_df.values\n",
    "corr = res_df.corr()\n",
    "qs = np.quantile(group_arr, q=[.0025, .9975], axis=0)\n",
    "ndim = qs.shape[1]\n",
    "ranges = [tuple(qs[:, kk]) for kk in np.arange(ndim)]\n",
    "figure = corner(group_arr, range=ranges, plot_density=True, plot_contours=True, no_fill_contours=False, #range=[range for i in np.arange(ndim)],\n",
    "                bins=50, labels=group, label_kwargs=label_kwargs, #truths=[0 for kk in np.arange(qs.shape[1])],\n",
    "                show_titles=True, title_kwargs=title_kwargs, quantiles=(0.16, 0.84),\n",
    "                # levels=(1 - np.exp(-0.5), .90), fill_contours=False, title_fmt='.2e')\n",
    "                levels=(1 - np.exp(-0.5), .90), fill_contours=False, title_fmt='.1e')\n",
    "\n",
    "# # Extract the axes\n",
    "axes = np.array(figure.axes).reshape((ndim, ndim))\n",
    "# Loop over the diagonal\n",
    "linecol = 'r'\n",
    "linstyl = 'dashed'\n",
    "# Loop over the histograms\n",
    "for yi in np.arange(ndim):\n",
    "    for xi in np.arange(yi):\n",
    "        ax = axes[yi, xi]\n",
    "        # Set face color according to correlation\n",
    "        ax.set_facecolor(color=mappable.to_rgba(corr.values[yi, xi]))\n",
    "cax = figure.add_axes([.87, .4, .04, 0.55])\n",
    "cbar = plt.colorbar(mappable, cax=cax, format='%.1f', ticks=np.arange(-1., 1.1, 0.2))\n",
    "cbar.ax.set_ylabel('Correlation', fontsize=20)\n",
    "\n",
    "if save:\n",
    "    fig_name = 'corner_3d.png'\n",
    "    plt.savefig(curr_save_folder + fig_name)"
   ]
  },
  {
   "cell_type": "code",
   "execution_count": null,
   "metadata": {},
   "outputs": [],
   "source": []
  }
 ],
 "metadata": {
  "kernelspec": {
   "display_name": "venv",
   "language": "python",
   "name": "venv"
  },
  "language_info": {
   "codemirror_mode": {
    "name": "ipython",
    "version": 3
   },
   "file_extension": ".py",
   "mimetype": "text/x-python",
   "name": "python",
   "nbconvert_exporter": "python",
   "pygments_lexer": "ipython3",
   "version": "3.7.2"
  }
 },
 "nbformat": 4,
 "nbformat_minor": 2
}
