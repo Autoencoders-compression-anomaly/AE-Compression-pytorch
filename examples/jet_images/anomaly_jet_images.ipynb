{
 "cells": [
  {
   "cell_type": "markdown",
   "metadata": {},
   "source": [
    "# Anomaly detection"
   ]
  },
  {
   "cell_type": "markdown",
   "metadata": {},
   "source": [
    "This Jupyter Notebook will test a pre-trained network for jet images. The data used is created in examples/process_jet_images."
   ]
  },
  {
   "cell_type": "markdown",
   "metadata": {},
   "source": [
    "## Setup"
   ]
  },
  {
   "cell_type": "markdown",
   "metadata": {
    "heading_collapsed": true
   },
   "source": [
    "### Loading data"
   ]
  },
  {
   "cell_type": "markdown",
   "metadata": {
    "hidden": true
   },
   "source": [
    "Note: You have to change the path to the directory where your processed files are. "
   ]
  },
  {
   "cell_type": "code",
   "execution_count": 1,
   "metadata": {
    "hidden": true
   },
   "outputs": [],
   "source": [
    "import os\n",
    "import pandas as pd\n",
    "\n",
    "save_dir = \"plotOutput\" # Change this to the path to wherever you want to save the figures\n",
    "if not os.path.exists(save_dir):\n",
    "    os.makedirs(save_dir)\n",
    "\n",
    "# =========== Images + jet variables ===========\n",
    "# Complete DataFrame (image and all jet variables)\n",
    "path_complete = '/Users/nallenallis/Documents/LTH/Exjobb/data/jet images/jet_images_LAGAN_complete.pkl'\n",
    "df_complete = pd.read_pickle(path_complete) \n",
    "\n",
    "# Complete DataFrame (image and all jet variables) for only signal jets\n",
    "path_complete_signal = '/Users/nallenallis/Documents/LTH/Exjobb/data/jet images/jet_images_LAGAN_complete_signal.pkl'\n",
    "df_complete_signal = pd.read_pickle(path_complete_signal) \n",
    "\n",
    "# Complete DataFrame (image and all jet variables) for only background jets\n",
    "path_complete_bg = '/Users/nallenallis/Documents/LTH/Exjobb/data/jet images/jet_images_LAGAN_complete_bg.pkl'\n",
    "df_complete_bg = pd.read_pickle(path_complete_bg) \n",
    "\n",
    "# =========== Images ===========\n",
    "# Only jet images\n",
    "path_img_all = '/Users/nallenallis/Documents/LTH/Exjobb/data/jet images/images/jet_images_LAGAN_images.pkl'\n",
    "df_img_all = pd.read_pickle(path_img_all) \n",
    "\n",
    "# Only jet images for signal jets\n",
    "path_signal = '/Users/nallenallis/Documents/LTH/Exjobb/data/jet images/images/jet_images_LAGAN_images_signal.pkl'\n",
    "df_signal = pd.read_pickle(path_signal) \n",
    "\n",
    "# Only jet images for background jets\n",
    "path_bg = '/Users/nallenallis/Documents/LTH/Exjobb/data/jet images/images/jet_images_LAGAN_images_bg.pkl'\n",
    "df_bg = pd.read_pickle(path_bg) \n",
    "\n",
    "# =========== From network ===========\n",
    "#path_output = '/Users/nallenallis/Documents/LTH/Exjobb/Results/LAGAN/bg_all_img_625-300-100-300-625/val_bg/bg_all_img_625-300-100-300-625_output.pkl'\n",
    "#path_output = '/Users/nallenallis/Documents/LTH/Exjobb/Results/LAGAN/bg_all_img_625-625-625-625-625/val_bg/bg_all_img_625-625-625-625-625_output.pkl'\n",
    "#path_output = '/Users/nallenallis/Documents/LTH/Exjobb/Results/LAGAN/bg_all_img_625-625-625-625-625/val_signal/bg_all_img_625-625-625-625-625_output_signal.pkl'\n",
    "path_output = '/Users/nallenallis/Documents/LTH/Exjobb/Results/LAGAN/bg_all_img_625-300-100-300-625/val_signal/bg_all_img_625-300-100-300-625_output_signal.pkl'\n",
    "df_output = pd.read_pickle(path_output)"
   ]
  },
  {
   "cell_type": "markdown",
   "metadata": {},
   "source": [
    "### Preparing data for network"
   ]
  },
  {
   "cell_type": "code",
   "execution_count": 2,
   "metadata": {},
   "outputs": [],
   "source": [
    "import os\n",
    "import pandas as pd\n",
    "\n",
    "save_dir = \"plotOutput\" # Change this to the path to wherever you want to save the figures\n",
    "if not os.path.exists(save_dir):\n",
    "    os.makedirs(save_dir)\n",
    "\n",
    "# Only jet images for signal jets\n",
    "path_signal = '/Users/nallenallis/Documents/LTH/Exjobb/data/jet images/images/jet_images_LAGAN_images_signal.pkl'\n",
    "df_signal = pd.read_pickle(path_signal) \n",
    "path_bg_test = '/Users/nallenallis/Documents/LTH/Exjobb/data/jet images/images/jet_images_LAGAN_images_bg_test.pkl'\n",
    "df_bg_test = pd.read_pickle(path_bg_test) "
   ]
  },
  {
   "cell_type": "code",
   "execution_count": 3,
   "metadata": {},
   "outputs": [],
   "source": [
    "# Separate the DataFrame into three sets.\n",
    "split1 = round(0.7*len(df))\n",
    "split2 = round(0.2*len(df))\n",
    "\n",
    "train = df[:split1] # 70 %\n",
    "valid = df[split1:split1+split2] # 20 %\n",
    "test = df[split1+split2:] # 10 %"
   ]
  },
  {
   "cell_type": "markdown",
   "metadata": {},
   "source": [
    "Adding the two datasets as TensorDatasets to PyTorch (also loading all other classes we'll need later)"
   ]
  },
  {
   "cell_type": "code",
   "execution_count": 4,
   "metadata": {},
   "outputs": [],
   "source": [
    "import torch\n",
    "import torch.nn as nn\n",
    "import torch.optim as optim\n",
    "import torch.utils.data\n",
    "from torch.autograd import Variable\n",
    "\n",
    "from torch.utils.data import TensorDataset\n",
    "from torch.utils.data import DataLoader\n",
    "\n",
    "from fastai import learner\n",
    "from fastai.data import core\n",
    "\n",
    "train_x = train\n",
    "test_x = test\n",
    "train_y = train_x  # y = x since we are building an autoencoder\n",
    "test_y = test_x\n",
    "\n",
    "# Constructs a tensor object of the data and wraps them in a TensorDataset object.\n",
    "train_ds = TensorDataset(torch.tensor(train_x.values, dtype=torch.float), torch.tensor(train_y.values, dtype=torch.float))\n",
    "valid_ds = TensorDataset(torch.tensor(test_x.values, dtype=torch.float), torch.tensor(test_y.values, dtype=torch.float))"
   ]
  },
  {
   "cell_type": "markdown",
   "metadata": {},
   "source": [
    "We now set things up to load the data, and we use a batch size that was optimized by previous students...note also that this is fastai v2, migration thanks to Jessica Lastow."
   ]
  },
  {
   "cell_type": "markdown",
   "metadata": {},
   "source": [
    "### Setting up the network"
   ]
  },
  {
   "cell_type": "code",
   "execution_count": 5,
   "metadata": {},
   "outputs": [],
   "source": [
    "bs = 256\n",
    "\n",
    "# Converts the TensorDataset into a DataLoader object and combines into one DataLoaders object (a basic wrapper\n",
    "# around several DataLoader objects). \n",
    "train_dl = DataLoader(train_ds, batch_size=bs, shuffle=True)\n",
    "valid_dl = DataLoader(valid_ds, batch_size=bs * 2)\n",
    "dls = core.DataLoaders(train_dl, valid_dl)"
   ]
  },
  {
   "cell_type": "markdown",
   "metadata": {},
   "source": [
    "Here we have an example network. Details aren't too important, as long as they match what was already trained for us...in this case we have a LeakyReLU, tanh activation function, and a number of layers that goes from 4 to 200 to 20 to 3 (number of features in the hidden layer that we pick for testing compression) and then back all the way to 4. "
   ]
  },
  {
   "cell_type": "code",
   "execution_count": 6,
   "metadata": {},
   "outputs": [
    {
     "data": {
      "text/plain": [
       "AE_3D_200_LeakyReLU_test(\n",
       "  (en1): Linear(in_features=625, out_features=300, bias=True)\n",
       "  (en2): Linear(in_features=300, out_features=100, bias=True)\n",
       "  (de1): Linear(in_features=100, out_features=300, bias=True)\n",
       "  (de2): Linear(in_features=300, out_features=625, bias=True)\n",
       "  (tanh): Tanh()\n",
       ")"
      ]
     },
     "execution_count": 6,
     "metadata": {},
     "output_type": "execute_result"
    }
   ],
   "source": [
    "class AE_3D_200_LeakyReLU_test(nn.Module):\n",
    "    def __init__(self, n_features=625):\n",
    "        super(AE_3D_200_LeakyReLU_test, self).__init__()\n",
    "        self.en1 = nn.Linear(n_features, 300)\n",
    "        self.en2 = nn.Linear(300, 100)\n",
    "        self.de1 = nn.Linear(100, 300)\n",
    "        self.de2 = nn.Linear(300, n_features)\n",
    "        #self.en1 = nn.Linear(n_features, 625)\n",
    "        #self.en2 = nn.Linear(625, 625)\n",
    "        #self.de1 = nn.Linear(625, 625)\n",
    "        #self.de2 = nn.Linear(625, n_features)\n",
    "        self.tanh = nn.Tanh()\n",
    "\n",
    "    def encode(self, x):\n",
    "        return self.en2(self.tanh(self.en1(x)))\n",
    "\n",
    "    def decode(self, x):\n",
    "        return self.de2(self.tanh(self.de1(self.tanh(x))))\n",
    "\n",
    "    def forward(self, x):\n",
    "        z = self.encode(x)\n",
    "        return self.decode(z)\n",
    "\n",
    "    def describe(self):\n",
    "        return 'text'\n",
    "\n",
    "model = AE_3D_200_LeakyReLU_test()\n",
    "model.to('cpu')"
   ]
  },
  {
   "cell_type": "markdown",
   "metadata": {},
   "source": [
    "We now have to pick a loss function - MSE loss is appropriate for a compression autoencoder since it reflects the [(input-output)/input] physical quantity that we want to minimize. "
   ]
  },
  {
   "cell_type": "code",
   "execution_count": 7,
   "metadata": {},
   "outputs": [],
   "source": [
    "from fastai.metrics import mse\n",
    "\n",
    "loss_func = nn.MSELoss(reduction='none')\n",
    "wd = 1e-6\n",
    "\n",
    "learn = learner.Learner(dls, model=model, wd=wd, loss_func=loss_func)"
   ]
  },
  {
   "cell_type": "markdown",
   "metadata": {},
   "source": [
    "### Loading the pre-trained network"
   ]
  },
  {
   "cell_type": "code",
   "execution_count": 8,
   "metadata": {},
   "outputs": [
    {
     "data": {
      "text/plain": [
       "<fastai.learner.Learner at 0x13758a880>"
      ]
     },
     "execution_count": 8,
     "metadata": {},
     "output_type": "execute_result"
    }
   ],
   "source": [
    "#learn.load('bg_all_img_625-625-625-625')\n",
    "learn.load('bg_all_img_625-300-100-300-625')"
   ]
  },
  {
   "cell_type": "markdown",
   "metadata": {},
   "source": [
    "## Anomaly detection"
   ]
  },
  {
   "cell_type": "markdown",
   "metadata": {},
   "source": [
    "### Calculating the anomaly score"
   ]
  },
  {
   "cell_type": "code",
   "execution_count": 10,
   "metadata": {},
   "outputs": [],
   "source": [
    "#from: https://pytorch.org/docs/stable/generated/torch.nn.MSELoss.html\n",
    "\n",
    "test_preds, test_targs = learn.get_preds(dl=test_dl)\n",
    "mse = np.zeros(len(test_targs))\n",
    "for i in range(len(test_targs)):\n",
    "    mse[i] = loss_func(test_preds[i],test_targs[i])"
   ]
  },
  {
   "cell_type": "markdown",
   "metadata": {},
   "source": [
    "### Classification"
   ]
  },
  {
   "cell_type": "code",
   "execution_count": 13,
   "metadata": {},
   "outputs": [],
   "source": [
    "classification = np.zeros(len(image_MSE))\n",
    "thresholds = np.linspace(min(image_MSE), max(image_MSE),10)\n",
    "accuracy = np.zeros(len(thresholds))\n",
    "TP = np.zeros(len(thresholds)) # True positive\n",
    "TN = np.zeros(len(thresholds)) # True negative\n",
    "FP = np.zeros(len(thresholds)) # False positive\n",
    "FN = np.zeros(len(thresholds)) # False negative\n",
    "\n",
    "for cidx in range(len(thresholds)):\n",
    "    for i in range(len(image_MSE)):\n",
    "        if image_MSE[i] > thresholds[cidx]:\n",
    "            classification[i] = 1 #Classified as \"anomalous\"\n",
    "        else:\n",
    "            classification[i] = 0 #Classified as \"normal\"\n",
    "        \n",
    "        # For confusion matrix\n",
    "        if classification[i] == 1 and df_complete['signal/background'][i] == 1: # Predicted anomaly and is anomaly\n",
    "            TP[cidx] = TP[cidx] + 1\n",
    "        elif classification[i] == 1 and df_complete['signal/background'][i] == 0: # Predicted anomaly but is normal\n",
    "            FP[cidx] = FP[cidx] + 1\n",
    "        elif classification[i] == 0 and df_complete['signal/background'][i] == 0: # Predicted normal and is normal\n",
    "            TN[cidx] = FN[cidx] + 1\n",
    "        elif classification[i] == 0 and df_complete['signal/background'][i] == 1: # Predicted normal but is anomaly\n",
    "            FN[cidx] = FN[cidx] + 1\n",
    "            \n",
    "    accuracy[cidx] = (TP[cidx] + TN[cidx])/(TP[cidx]+FN[cidx]+TN[cidx]+FP[cidx])"
   ]
  },
  {
   "cell_type": "code",
   "execution_count": 14,
   "metadata": {},
   "outputs": [
    {
     "data": {
      "image/png": "[encoded data removed]",
      "text/plain": [
       "<Figure size 432x288 with 1 Axes>"
      ]
     },
     "metadata": {
      "needs_background": "light"
     },
     "output_type": "display_data"
    }
   ],
   "source": [
    "import matplotlib.pyplot as plt\n",
    "\n",
    "plt.figure()\n",
    "plt.plot(accuracy, color='c')\n",
    "plt.xlabel('Threshold')\n",
    "plt.ylabel('Accuracy')\n",
    "plt.show()"
   ]
  },
  {
   "cell_type": "markdown",
   "metadata": {},
   "source": [
    "### Confusion matrix"
   ]
  },
  {
   "cell_type": "code",
   "execution_count": 19,
   "metadata": {},
   "outputs": [],
   "source": [
    "def confusion_matrix(TP,TN,FP,FN):\n",
    "    return np.array([[TP, FN], [FP, TN]])\n",
    "\n",
    "def plot_confusion_matrix(cm, thresh):\n",
    "    \n",
    "    import itertools\n",
    "    \n",
    "    accuracy = np.trace(cm) / float(np.sum(cm))\n",
    "    #misclass = 1 - accuracy\n",
    "\n",
    "    # Plots background and colorbar\n",
    "    cmap = plt.get_cmap('Blues')\n",
    "    plt.figure(figsize=(8, 6))\n",
    "    plt.imshow(cm, interpolation='nearest', cmap=cmap)\n",
    "    plt.colorbar()\n",
    "    \n",
    "    # Sets ticks with certain labels\n",
    "    target_names = ['anomaly','normal']\n",
    "    tick_marks = np.arange(len(target_names))\n",
    "    plt.xticks(tick_marks, target_names, rotation=45)\n",
    "    plt.yticks(tick_marks, target_names)\n",
    "    \n",
    "    # Plots numbers\n",
    "    for i, j in itertools.product(range(cm.shape[0]), range(cm.shape[1])):\n",
    "        plt.text(j, i, cm[i, j],\n",
    "        horizontalalignment=\"center\",\n",
    "        color=\"white\" if cm[i, j] > 100 else \"black\")\n",
    "        #color=\"white\" if cm[i, j] > thresh else \"black\")\n",
    "\n",
    "    # Labels\n",
    "    plt.tight_layout()\n",
    "    plt.ylabel('True label', fontsize = 13)\n",
    "    plt.xlabel('Predicted label', fontsize = 13)\n",
    "    #plt.xlabel('Predicted label\\naccuracy={:0.4f}; misclass={:0.4f}'.format(accuracy, misclass))\n",
    "    plt.show()"
   ]
  },
  {
   "cell_type": "code",
   "execution_count": 20,
   "metadata": {},
   "outputs": [
    {
     "data": {
      "image/png": "[encoded data removed]",
      "text/plain": [
       "<Figure size 576x432 with 2 Axes>"
      ]
     },
     "metadata": {
      "needs_background": "light"
     },
     "output_type": "display_data"
    }
   ],
   "source": [
    "idx = np.argmax(accuracy) # Index of threshold with best accuracy\n",
    "plot_confusion_matrix(cm = confusion_matrix(TP[idx],TN[idx],FP[idx],FN[idx]), thresh = thresholds[idx])"
   ]
  },
  {
   "cell_type": "code",
   "execution_count": null,
   "metadata": {},
   "outputs": [],
   "source": []
  }
 ],
 "metadata": {
  "kernelspec": {
   "display_name": "Python 3",
   "language": "python",
   "name": "python3"
  },
  "language_info": {
   "codemirror_mode": {
    "name": "ipython",
    "version": 3
   },
   "file_extension": ".py",
   "mimetype": "text/x-python",
   "name": "python",
   "nbconvert_exporter": "python",
   "pygments_lexer": "ipython3",
   "version": "3.8.6"
  },
  "varInspector": {
   "cols": {
    "lenName": 16,
    "lenType": 16,
    "lenVar": 40
   },
   "kernels_config": {
    "python": {
     "delete_cmd_postfix": "",
     "delete_cmd_prefix": "del ",
     "library": "var_list.py",
     "varRefreshCmd": "print(var_dic_list())"
    },
    "r": {
     "delete_cmd_postfix": ") ",
     "delete_cmd_prefix": "rm(",
     "library": "var_list.r",
     "varRefreshCmd": "cat(var_dic_list()) "
    }
   },
   "oldHeight": 526,
   "position": {
    "height": "463px",
    "left": "767px",
    "right": "20px",
    "top": "163px",
    "width": "526px"
   },
   "types_to_exclude": [
    "module",
    "function",
    "builtin_function_or_method",
    "instance",
    "_Feature"
   ],
   "varInspector_section_display": "none",
   "window_display": false
  }
 },
 "nbformat": 4,
 "nbformat_minor": 4
}
