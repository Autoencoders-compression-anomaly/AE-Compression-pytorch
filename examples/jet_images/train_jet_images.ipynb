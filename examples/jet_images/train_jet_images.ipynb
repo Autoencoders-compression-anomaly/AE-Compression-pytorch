{
 "cells": [
  {
   "cell_type": "markdown",
   "metadata": {},
   "source": [
    "# Training a network for jet images"
   ]
  },
  {
   "cell_type": "markdown",
   "metadata": {},
   "source": [
    "This Jupyter Notebook will train and test a network for jet images. The data used is created in examples/process_jet_images \n",
    "\n",
    "to create the dataset that is used here)"
   ]
  },
  {
   "cell_type": "markdown",
   "metadata": {},
   "source": [
    "## Preparing the data"
   ]
  },
  {
   "cell_type": "markdown",
   "metadata": {},
   "source": [
    "Note: You have to change the path to the directory where your processed files are. "
   ]
  },
  {
   "cell_type": "code",
   "execution_count": 32,
   "metadata": {},
   "outputs": [],
   "source": [
    "import pandas as pd\n",
    "\n",
    "# Change this path to point to where you have stored the data: \n",
    "train = pd.read_pickle('/Users/nallenallis/Documents/LTH/Exjobb/data/jet images/shuffled/images/jet_images_LAGAN_images_bg_train_shuffled.pkl')\n",
    "valid = pd.read_pickle('/Users/nallenallis/Documents/LTH/Exjobb/data/jet images/shuffled/images/jet_images_LAGAN_images_bg_valid_shuffled.pkl')\n",
    "test = pd.read_pickle('/Users/nallenallis/Documents/LTH/Exjobb/data/jet images/shuffled/images/jet_images_LAGAN_images_bg_test_shuffled.pkl')"
   ]
  },
  {
   "cell_type": "markdown",
   "metadata": {},
   "source": [
    "Now we plot the data using the matplotlib library. The units reflect the normalization, but it's the shape that we care about. "
   ]
  },
  {
   "cell_type": "markdown",
   "metadata": {},
   "source": [
    "## Setting up the network"
   ]
  },
  {
   "cell_type": "markdown",
   "metadata": {},
   "source": [
    "### Inputting the data"
   ]
  },
  {
   "cell_type": "markdown",
   "metadata": {},
   "source": [
    "Adding the two datasets as TensorDatasets to PyTorch (also loading all other classes we'll need later). Note that we have train in both cases pga autoencoder"
   ]
  },
  {
   "cell_type": "code",
   "execution_count": 33,
   "metadata": {},
   "outputs": [],
   "source": [
    "import torch\n",
    "import torch.nn as nn\n",
    "import torch.optim as optim\n",
    "import torch.utils.data\n",
    "from torch.autograd import Variable\n",
    "\n",
    "from torch.utils.data import TensorDataset\n",
    "from torch.utils.data import DataLoader\n",
    "\n",
    "from fastai import learner\n",
    "from fastai.data import core\n",
    "\n",
    "# Constructs a tensor object of the data and wraps them in a TensorDataset object.\n",
    "train_ds = TensorDataset(torch.tensor(train.values, dtype=torch.float), torch.tensor(train.values, dtype=torch.float))\n",
    "valid_ds = TensorDataset(torch.tensor(valid.values, dtype=torch.float), torch.tensor(valid.values, dtype=torch.float))\n",
    "test_ds = TensorDataset(torch.tensor(test.values, dtype=torch.float), torch.tensor(test.values, dtype=torch.float))"
   ]
  },
  {
   "cell_type": "markdown",
   "metadata": {},
   "source": [
    "We now set things up to load the data, and we use a batch size that was optimized by previous students...note also that this is fastai v2, migration thanks to Jessica Lastow."
   ]
  },
  {
   "cell_type": "code",
   "execution_count": 34,
   "metadata": {},
   "outputs": [],
   "source": [
    "bs = 256\n",
    "\n",
    "# Converts the TensorDataset into a DataLoader object and combines into one DataLoaders object (a basic wrapper\n",
    "# around several DataLoader objects). \n",
    "train_dl = DataLoader(train_ds, batch_size=bs, shuffle=True)\n",
    "valid_dl = DataLoader(valid_ds, batch_size=bs) #*2 innan\n",
    "test_dl = DataLoader(test_ds, batch_size=bs)\n",
    "\n",
    "dls = core.DataLoaders(train_dl, valid_dl)"
   ]
  },
  {
   "cell_type": "markdown",
   "metadata": {},
   "source": [
    "### Preparing the network"
   ]
  },
  {
   "cell_type": "markdown",
   "metadata": {},
   "source": [
    "Here we have an example network. Details aren't too important, as long as they match what was already trained for us...in this case we have a LeakyReLU, tanh activation function, and a number of layers that goes from 4 to 200 to 20 to 3 (number of features in the hidden layer that we pick for testing compression) and then back all the way to 4. "
   ]
  },
  {
   "cell_type": "code",
   "execution_count": 36,
   "metadata": {},
   "outputs": [
    {
     "data": {
      "text/plain": [
       "AE_model_7H_50(\n",
       "  (en1): Linear(in_features=625, out_features=500, bias=True)\n",
       "  (en2): Linear(in_features=500, out_features=350, bias=True)\n",
       "  (en3): Linear(in_features=350, out_features=200, bias=True)\n",
       "  (en4): Linear(in_features=200, out_features=50, bias=True)\n",
       "  (de1): Linear(in_features=50, out_features=200, bias=True)\n",
       "  (de2): Linear(in_features=200, out_features=350, bias=True)\n",
       "  (de3): Linear(in_features=350, out_features=500, bias=True)\n",
       "  (de4): Linear(in_features=500, out_features=625, bias=True)\n",
       "  (leakyrelu): LeakyReLU(negative_slope=0.01)\n",
       ")"
      ]
     },
     "execution_count": 36,
     "metadata": {},
     "output_type": "execute_result"
    }
   ],
   "source": [
    "class AE_model_3H_100(nn.Module):\n",
    "    def __init__(self, n_features=625):\n",
    "        super(AE_model_3H_100, self).__init__()\n",
    "        \n",
    "        self.en1 = nn.Linear(n_features, 300)\n",
    "        self.en2 = nn.Linear(300, 100)\n",
    "        self.de1 = nn.Linear(100, 300)\n",
    "        self.de2 = nn.Linear(300, n_features)\n",
    "        \n",
    "        #self.en1 = nn.Linear(n_features, 625)\n",
    "        #self.en2 = nn.Linear(625, 625)\n",
    "        #self.de1 = nn.Linear(625, 625)\n",
    "        #self.de2 = nn.Linear(625, n_features)\n",
    "        \n",
    "        self.leakyrelu = nn.LeakyReLU()\n",
    "\n",
    "    def encode(self, x):\n",
    "        return self.en2(self.leakyrelu(self.en1(x)))\n",
    "\n",
    "    def decode(self, x):\n",
    "        return self.de2(self.leakyrelu(self.de1(self.leakyrelu(x))))\n",
    "\n",
    "    def forward(self, x):\n",
    "        z = self.encode(x)\n",
    "        return self.decode(z)\n",
    "\n",
    "    def describe(self):\n",
    "        return 'text'\n",
    "\n",
    "class AE_model_7H_100(nn.Module):\n",
    "    def __init__(self, n_features=625):\n",
    "        super(AE_model_7H_100, self).__init__()\n",
    "        \n",
    "        self.en1 = nn.Linear(n_features, 500)\n",
    "        self.en2 = nn.Linear(500, 350)\n",
    "        self.en3 = nn.Linear(350, 200)\n",
    "        self.en4 = nn.Linear(200, 100)\n",
    "        self.de1 = nn.Linear(100, 200)\n",
    "        self.de2 = nn.Linear(200, 350)\n",
    "        self.de3 = nn.Linear(350, 500)\n",
    "        self.de4 = nn.Linear(500, n_features)\n",
    "        \n",
    "        self.leakyrelu = nn.LeakyReLU()\n",
    "\n",
    "    def encode(self, x):\n",
    "        return self.en4(self.leakyrelu(self.en3(self.leakyrelu(self.en2(self.leakyrelu(self.en1(x)))))))\n",
    "\n",
    "    def decode(self, x):\n",
    "        return self.de4(self.leakyrelu(self.de3(self.leakyrelu(self.de2(self.leakyrelu(self.de1(self.leakyrelu(x))))))))\n",
    "\n",
    "    def forward(self, x):\n",
    "        z = self.encode(x)\n",
    "        return self.decode(z)\n",
    "\n",
    "    def describe(self):\n",
    "        return 'text'\n",
    "    \n",
    "class AE_model_7H_50(nn.Module):\n",
    "    def __init__(self, n_features=625):\n",
    "        super(AE_model_7H_50, self).__init__()\n",
    "        \n",
    "        self.en1 = nn.Linear(n_features, 500)\n",
    "        self.en2 = nn.Linear(500, 350)\n",
    "        self.en3 = nn.Linear(350, 200)\n",
    "        self.en4 = nn.Linear(200, 50)\n",
    "        self.de1 = nn.Linear(50, 200)\n",
    "        self.de2 = nn.Linear(200, 350)\n",
    "        self.de3 = nn.Linear(350, 500)\n",
    "        self.de4 = nn.Linear(500, n_features)\n",
    "        \n",
    "        self.leakyrelu = nn.LeakyReLU()\n",
    "\n",
    "    def encode(self, x):\n",
    "        return self.en4(self.leakyrelu(self.en3(self.leakyrelu(self.en2(self.leakyrelu(self.en1(x)))))))\n",
    "\n",
    "    def decode(self, x):\n",
    "        return self.de4(self.leakyrelu(self.de3(self.leakyrelu(self.de2(self.leakyrelu(self.de1(self.leakyrelu(x))))))))\n",
    "\n",
    "    def forward(self, x):\n",
    "        z = self.encode(x)\n",
    "        return self.decode(z)\n",
    "\n",
    "    def describe(self):\n",
    "        return 'text'\n",
    "    \n",
    "model = AE_model_7H_50()\n",
    "model.to('cpu')"
   ]
  },
  {
   "cell_type": "markdown",
   "metadata": {},
   "source": [
    "We now have to pick a loss function - MSE loss is appropriate for a compression autoencoder since it reflects the [(input-output)/input] physical quantity that we want to minimize. "
   ]
  },
  {
   "cell_type": "code",
   "execution_count": 37,
   "metadata": {},
   "outputs": [],
   "source": [
    "from fastai.metrics import mse\n",
    "\n",
    "loss_func = nn.MSELoss()\n",
    "wd = 1e-6\n",
    "\n",
    "recorder = learner.Recorder()\n",
    "learn = learner.Learner(dls, model=model, wd=wd, loss_func=loss_func, cbs=recorder)"
   ]
  },
  {
   "cell_type": "markdown",
   "metadata": {},
   "source": [
    "## Alternative 1: Training a new network"
   ]
  },
  {
   "cell_type": "markdown",
   "metadata": {},
   "source": [
    "### Choosing the learning rate"
   ]
  },
  {
   "cell_type": "markdown",
   "metadata": {},
   "source": [
    "First, we want to find the best learning rate. The learning rate is a hyper-paramater that sets how much the weights of the network will change each step with respect to the loss gradient.\n",
    "\n",
    "Then we plot the loss versus the learning rates. We're interested in finding a good order of magnitude of learning rate, so we plot with a log scale.\n",
    "\n",
    "A good value for the learning rates is then either:\n",
    "- one tenth of the minimum before the divergence\n",
    "- when the slope is the steepest"
   ]
  },
  {
   "cell_type": "code",
   "execution_count": 38,
   "metadata": {},
   "outputs": [
    {
     "data": {
      "text/plain": [
       "SuggestedLRs(lr_min=0.0013182567432522773, lr_steep=0.001737800776027143)"
      ]
     },
     "execution_count": 38,
     "metadata": {},
     "output_type": "execute_result"
    },
    {
     "data": {
      "image/png": "[encoded data removed]",
      "text/plain": [
       "<Figure size 432x288 with 1 Axes>"
      ]
     },
     "metadata": {
      "needs_background": "light"
     },
     "output_type": "display_data"
    }
   ],
   "source": [
    "from fastai.callback import schedule\n",
    "\n",
    "#lr_min, lr_steep = learn.lr_find()\n",
    "learn.lr_find()\n",
    "\n",
    "#print('Learning rate with the minimum loss:', lr_min)\n",
    "#print('Learning rate with the steepest gradient:', lr_steep)"
   ]
  },
  {
   "cell_type": "markdown",
   "metadata": {},
   "source": [
    "### Training the network"
   ]
  },
  {
   "cell_type": "code",
   "execution_count": 39,
   "metadata": {},
   "outputs": [
    {
     "name": "stdout",
     "output_type": "stream",
     "text": [
      "[0, 1.8735990524291992, 1.7036715745925903, '01:10']\n",
      "[0, 1.8735990524291992, 1.7036715745925903, '01:10']\n",
      "[1, 0.6717211604118347, 0.6932295560836792, '01:07']\n",
      "[1, 0.6717211604118347, 0.6932295560836792, '01:07']\n",
      "[2, 0.4568181037902832, 0.4649498462677002, '01:08']\n",
      "[2, 0.4568181037902832, 0.4649498462677002, '01:08']\n",
      "[3, 0.3596265912055969, 0.37401914596557617, '01:10']\n",
      "[3, 0.3596265912055969, 0.37401914596557617, '01:10']\n",
      "[4, 0.27338624000549316, 0.32202523946762085, '01:44']\n",
      "[4, 0.27338624000549316, 0.32202523946762085, '01:44']\n",
      "[5, 0.22503715753555298, 0.36265960335731506, '01:07']\n",
      "[5, 0.22503715753555298, 0.36265960335731506, '01:07']\n",
      "[6, 0.1969689279794693, 0.20121625065803528, '01:07']\n",
      "[6, 0.1969689279794693, 0.20121625065803528, '01:07']\n",
      "[7, 0.16835002601146698, 0.23167367279529572, '01:08']\n",
      "[7, 0.16835002601146698, 0.23167367279529572, '01:08']\n",
      "[8, 0.14554081857204437, 0.17966990172863007, '01:08']\n",
      "[8, 0.14554081857204437, 0.17966990172863007, '01:08']\n",
      "[9, 0.12704481184482574, 0.1294822096824646, '01:08']\n",
      "[9, 0.12704481184482574, 0.1294822096824646, '01:08']\n",
      "[10, 0.11108360439538956, 0.12173758447170258, '01:07']\n",
      "[10, 0.11108360439538956, 0.12173758447170258, '01:07']\n",
      "[11, 0.10113915801048279, 0.10604240000247955, '01:09']\n",
      "[11, 0.10113915801048279, 0.10604240000247955, '01:09']\n",
      "[12, 0.090521439909935, 0.09786302596330643, '01:08']\n",
      "[12, 0.090521439909935, 0.09786302596330643, '01:08']\n",
      "[13, 0.0841832160949707, 0.08779606968164444, '01:08']\n",
      "[13, 0.0841832160949707, 0.08779606968164444, '01:08']\n",
      "[14, 0.08000636100769043, 0.0833393782377243, '01:08']\n",
      "[14, 0.08000636100769043, 0.0833393782377243, '01:08']\n",
      "[15, 0.07755827903747559, 0.07860646396875381, '01:08']\n",
      "[15, 0.07755827903747559, 0.07860646396875381, '01:08']\n",
      "[16, 0.07399648427963257, 0.07640617340803146, '01:08']\n",
      "[16, 0.07399648427963257, 0.07640617340803146, '01:08']\n",
      "[17, 0.07266353815793991, 0.07449091225862503, '01:07']\n",
      "[17, 0.07266353815793991, 0.07449091225862503, '01:07']\n",
      "[18, 0.07302089035511017, 0.07368868589401245, '01:08']\n",
      "[18, 0.07302089035511017, 0.07368868589401245, '01:08']\n",
      "[19, 0.07148147374391556, 0.07341761887073517, '01:08']\n",
      "[19, 0.07148147374391556, 0.07341761887073517, '01:08']\n",
      "Training took 1408.9751391 seconds\n"
     ]
    }
   ],
   "source": [
    "import time\n",
    "\n",
    "start = time.perf_counter() # Starts timer\n",
    "#learn.fit_one_cycle(n_epoch=30, lr_max=lr_steep)\n",
    "learn.fit_one_cycle(n_epoch=20)\n",
    "end = time.perf_counter() # Ends timer\n",
    "delta_t = end - start\n",
    "print('Training took', delta_t, 'seconds')"
   ]
  },
  {
   "cell_type": "markdown",
   "metadata": {},
   "source": [
    "Then we plot the loss as a function of batches and epochs to check if we reach a plateau."
   ]
  },
  {
   "cell_type": "code",
   "execution_count": 40,
   "metadata": {
    "scrolled": true
   },
   "outputs": [
    {
     "data": {
      "image/png": "[encoded data removed]",
      "text/plain": [
       "<Figure size 432x288 with 1 Axes>"
      ]
     },
     "metadata": {
      "needs_background": "light"
     },
     "output_type": "display_data"
    }
   ],
   "source": [
    "recorder.plot_loss()"
   ]
  },
  {
   "cell_type": "markdown",
   "metadata": {},
   "source": [
    "Saving the trained network in folder /models/"
   ]
  },
  {
   "cell_type": "code",
   "execution_count": 41,
   "metadata": {},
   "outputs": [
    {
     "data": {
      "text/plain": [
       "Path('models/bg_all_img_625-500-350-200-50-200-350-500-625_shuffled.pth')"
      ]
     },
     "execution_count": 41,
     "metadata": {},
     "output_type": "execute_result"
    }
   ],
   "source": [
    "#learn.save('bg_all_img_625-625-625-625-625')\n",
    "#learn.save('bg_all_img_625-300-100-300-625_shuffled')\n",
    "learn.save('bg_all_img_625-500-350-200-50-200-350-500-625_shuffled')"
   ]
  },
  {
   "cell_type": "markdown",
   "metadata": {},
   "source": [
    "## Alternative 2: Using a pre-trained network"
   ]
  },
  {
   "cell_type": "code",
   "execution_count": 73,
   "metadata": {},
   "outputs": [
    {
     "data": {
      "text/plain": [
       "<fastai.learner.Learner at 0x137f350a0>"
      ]
     },
     "execution_count": 73,
     "metadata": {},
     "output_type": "execute_result"
    }
   ],
   "source": [
    "learn.load('bg_all_img_625-625-625-625-625')\n",
    "#learn.load('bg_all_img_625-300-100-300-625')"
   ]
  },
  {
   "cell_type": "markdown",
   "metadata": {},
   "source": [
    "## Evaluation of network"
   ]
  },
  {
   "cell_type": "code",
   "execution_count": 42,
   "metadata": {},
   "outputs": [
    {
     "data": {
      "text/plain": [
       "(#1) [0.07341761887073517]"
      ]
     },
     "execution_count": 42,
     "metadata": {},
     "output_type": "execute_result"
    }
   ],
   "source": [
    "learn.validate()"
   ]
  },
  {
   "cell_type": "code",
   "execution_count": 43,
   "metadata": {},
   "outputs": [
    {
     "name": "stdout",
     "output_type": "stream",
     "text": [
      "0.0730046449530721\n"
     ]
    }
   ],
   "source": [
    "test_preds, test_targs = learn.get_preds(dl=test_dl)\n",
    "mse = np.zeros(len(test_targs))\n",
    "for i in range(len(test_targs)):\n",
    "    mse[i] = loss_func(test_preds[i],test_targs[i])\n",
    "\n",
    "print(np.mean(mse))"
   ]
  },
  {
   "cell_type": "code",
   "execution_count": 44,
   "metadata": {},
   "outputs": [
    {
     "name": "stdout",
     "output_type": "stream",
     "text": [
      "0.03453647670468853\n"
     ]
    }
   ],
   "source": [
    "path_signal = '/Users/nallenallis/Documents/LTH/Exjobb/data/jet images/not shuffled/images/jet_images_LAGAN_images_signal.pkl'\n",
    "df_signal = pd.read_pickle(path_signal)\n",
    "signal_ds = TensorDataset(torch.tensor(df_signal.values, dtype=torch.float), torch.tensor(df_signal.values, dtype=torch.float))\n",
    "signal_dl = DataLoader(signal_ds, batch_size=bs)\n",
    "\n",
    "signal_preds, signal_targs = learn.get_preds(dl=signal_dl)\n",
    "mse_signal = np.zeros(len(signal_targs))\n",
    "for i in range(len(signal_targs)):\n",
    "    mse_signal[i] = loss_func(signal_preds[i],signal_targs[i])\n",
    "    \n",
    "print(np.mean(mse_signal))"
   ]
  },
  {
   "cell_type": "markdown",
   "metadata": {},
   "source": [
    "## Preparing for analysis"
   ]
  },
  {
   "cell_type": "code",
   "execution_count": 45,
   "metadata": {},
   "outputs": [],
   "source": [
    "import os\n",
    "save_dir = \"plotOutput\"\n",
    "if not os.path.exists(save_dir):\n",
    "    os.makedirs(save_dir)"
   ]
  },
  {
   "cell_type": "code",
   "execution_count": 48,
   "metadata": {},
   "outputs": [],
   "source": [
    "df_test_preds = pd.DataFrame(test_preds, columns=test.columns)\n",
    "df_test_preds.to_pickle(os.path.join(save_dir,'bg_all_img_625-500-350-200-50-200-350-500-625_bg_test_preds_shuffled.pkl'))\n",
    "\n",
    "df_signal_preds = pd.DataFrame(signal_preds, columns=df_signal.columns)\n",
    "df_signal_preds.to_pickle(os.path.join(save_dir,'bg_all_img_625-500-350-200-50-200-350-500-625_signal_test_preds_shuffled.pkl'))"
   ]
  },
  {
   "cell_type": "code",
   "execution_count": 56,
   "metadata": {},
   "outputs": [
    {
     "ename": "AttributeError",
     "evalue": "'DataLoader' object has no attribute 'new'",
     "output_type": "error",
     "traceback": [
      "\u001b[0;31m---------------------------------------------------------------------------\u001b[0m",
      "\u001b[0;31mAttributeError\u001b[0m                            Traceback (most recent call last)",
      "\u001b[0;32m<ipython-input-56-0f096bf0efe4>\u001b[0m in \u001b[0;36m<module>\u001b[0;34m\u001b[0m\n\u001b[0;32m----> 1\u001b[0;31m \u001b[0mlearner\u001b[0m\u001b[0;34m.\u001b[0m\u001b[0mexport\u001b[0m\u001b[0;34m(\u001b[0m\u001b[0mlearn\u001b[0m\u001b[0;34m,\u001b[0m\u001b[0;34m'fname=export.pkl'\u001b[0m\u001b[0;34m)\u001b[0m\u001b[0;34m\u001b[0m\u001b[0;34m\u001b[0m\u001b[0m\n\u001b[0m",
      "\u001b[0;32m~/Documents/LTH/Exjobb/.caterina_venv/lib/python3.8/site-packages/fastai/learner.py\u001b[0m in \u001b[0;36mexport\u001b[0;34m(self, fname, pickle_protocol)\u001b[0m\n\u001b[1;32m    532\u001b[0m     \u001b[0mself\u001b[0m\u001b[0;34m.\u001b[0m\u001b[0m_end_cleanup\u001b[0m\u001b[0;34m(\u001b[0m\u001b[0;34m)\u001b[0m\u001b[0;34m\u001b[0m\u001b[0;34m\u001b[0m\u001b[0m\n\u001b[1;32m    533\u001b[0m     \u001b[0mold_dbunch\u001b[0m \u001b[0;34m=\u001b[0m \u001b[0mself\u001b[0m\u001b[0;34m.\u001b[0m\u001b[0mdls\u001b[0m\u001b[0;34m\u001b[0m\u001b[0;34m\u001b[0m\u001b[0m\n\u001b[0;32m--> 534\u001b[0;31m     \u001b[0mself\u001b[0m\u001b[0;34m.\u001b[0m\u001b[0mdls\u001b[0m \u001b[0;34m=\u001b[0m \u001b[0mself\u001b[0m\u001b[0;34m.\u001b[0m\u001b[0mdls\u001b[0m\u001b[0;34m.\u001b[0m\u001b[0mnew_empty\u001b[0m\u001b[0;34m(\u001b[0m\u001b[0;34m)\u001b[0m\u001b[0;34m\u001b[0m\u001b[0;34m\u001b[0m\u001b[0m\n\u001b[0m\u001b[1;32m    535\u001b[0m     \u001b[0mstate\u001b[0m \u001b[0;34m=\u001b[0m \u001b[0mself\u001b[0m\u001b[0;34m.\u001b[0m\u001b[0mopt\u001b[0m\u001b[0;34m.\u001b[0m\u001b[0mstate_dict\u001b[0m\u001b[0;34m(\u001b[0m\u001b[0;34m)\u001b[0m \u001b[0;32mif\u001b[0m \u001b[0mself\u001b[0m\u001b[0;34m.\u001b[0m\u001b[0mopt\u001b[0m \u001b[0;32mis\u001b[0m \u001b[0;32mnot\u001b[0m \u001b[0;32mNone\u001b[0m \u001b[0;32melse\u001b[0m \u001b[0;32mNone\u001b[0m\u001b[0;34m\u001b[0m\u001b[0;34m\u001b[0m\u001b[0m\n\u001b[1;32m    536\u001b[0m     \u001b[0mself\u001b[0m\u001b[0;34m.\u001b[0m\u001b[0mopt\u001b[0m \u001b[0;34m=\u001b[0m \u001b[0;32mNone\u001b[0m\u001b[0;34m\u001b[0m\u001b[0;34m\u001b[0m\u001b[0m\n",
      "\u001b[0;32m~/Documents/LTH/Exjobb/.caterina_venv/lib/python3.8/site-packages/fastai/data/core.py\u001b[0m in \u001b[0;36mnew_empty\u001b[0;34m(self)\u001b[0m\n\u001b[1;32m    144\u001b[0m     \u001b[0;32mdef\u001b[0m \u001b[0m__getitem__\u001b[0m\u001b[0;34m(\u001b[0m\u001b[0mself\u001b[0m\u001b[0;34m,\u001b[0m \u001b[0mi\u001b[0m\u001b[0;34m)\u001b[0m\u001b[0;34m:\u001b[0m \u001b[0;32mreturn\u001b[0m \u001b[0mself\u001b[0m\u001b[0;34m.\u001b[0m\u001b[0mloaders\u001b[0m\u001b[0;34m[\u001b[0m\u001b[0mi\u001b[0m\u001b[0;34m]\u001b[0m\u001b[0;34m\u001b[0m\u001b[0;34m\u001b[0m\u001b[0m\n\u001b[1;32m    145\u001b[0m     \u001b[0;32mdef\u001b[0m \u001b[0mnew_empty\u001b[0m\u001b[0;34m(\u001b[0m\u001b[0mself\u001b[0m\u001b[0;34m)\u001b[0m\u001b[0;34m:\u001b[0m\u001b[0;34m\u001b[0m\u001b[0;34m\u001b[0m\u001b[0m\n\u001b[0;32m--> 146\u001b[0;31m         \u001b[0mloaders\u001b[0m \u001b[0;34m=\u001b[0m \u001b[0;34m[\u001b[0m\u001b[0mdl\u001b[0m\u001b[0;34m.\u001b[0m\u001b[0mnew\u001b[0m\u001b[0;34m(\u001b[0m\u001b[0mdl\u001b[0m\u001b[0;34m.\u001b[0m\u001b[0mdataset\u001b[0m\u001b[0;34m.\u001b[0m\u001b[0mnew_empty\u001b[0m\u001b[0;34m(\u001b[0m\u001b[0;34m)\u001b[0m\u001b[0;34m)\u001b[0m \u001b[0;32mfor\u001b[0m \u001b[0mdl\u001b[0m \u001b[0;32min\u001b[0m \u001b[0mself\u001b[0m\u001b[0;34m.\u001b[0m\u001b[0mloaders\u001b[0m\u001b[0;34m]\u001b[0m\u001b[0;34m\u001b[0m\u001b[0;34m\u001b[0m\u001b[0m\n\u001b[0m\u001b[1;32m    147\u001b[0m         \u001b[0;32mreturn\u001b[0m \u001b[0mtype\u001b[0m\u001b[0;34m(\u001b[0m\u001b[0mself\u001b[0m\u001b[0;34m)\u001b[0m\u001b[0;34m(\u001b[0m\u001b[0;34m*\u001b[0m\u001b[0mloaders\u001b[0m\u001b[0;34m,\u001b[0m \u001b[0mpath\u001b[0m\u001b[0;34m=\u001b[0m\u001b[0mself\u001b[0m\u001b[0;34m.\u001b[0m\u001b[0mpath\u001b[0m\u001b[0;34m,\u001b[0m \u001b[0mdevice\u001b[0m\u001b[0;34m=\u001b[0m\u001b[0mself\u001b[0m\u001b[0;34m.\u001b[0m\u001b[0mdevice\u001b[0m\u001b[0;34m)\u001b[0m\u001b[0;34m\u001b[0m\u001b[0;34m\u001b[0m\u001b[0m\n\u001b[1;32m    148\u001b[0m \u001b[0;34m\u001b[0m\u001b[0m\n",
      "\u001b[0;32m~/Documents/LTH/Exjobb/.caterina_venv/lib/python3.8/site-packages/fastai/data/core.py\u001b[0m in \u001b[0;36m<listcomp>\u001b[0;34m(.0)\u001b[0m\n\u001b[1;32m    144\u001b[0m     \u001b[0;32mdef\u001b[0m \u001b[0m__getitem__\u001b[0m\u001b[0;34m(\u001b[0m\u001b[0mself\u001b[0m\u001b[0;34m,\u001b[0m \u001b[0mi\u001b[0m\u001b[0;34m)\u001b[0m\u001b[0;34m:\u001b[0m \u001b[0;32mreturn\u001b[0m \u001b[0mself\u001b[0m\u001b[0;34m.\u001b[0m\u001b[0mloaders\u001b[0m\u001b[0;34m[\u001b[0m\u001b[0mi\u001b[0m\u001b[0;34m]\u001b[0m\u001b[0;34m\u001b[0m\u001b[0;34m\u001b[0m\u001b[0m\n\u001b[1;32m    145\u001b[0m     \u001b[0;32mdef\u001b[0m \u001b[0mnew_empty\u001b[0m\u001b[0;34m(\u001b[0m\u001b[0mself\u001b[0m\u001b[0;34m)\u001b[0m\u001b[0;34m:\u001b[0m\u001b[0;34m\u001b[0m\u001b[0;34m\u001b[0m\u001b[0m\n\u001b[0;32m--> 146\u001b[0;31m         \u001b[0mloaders\u001b[0m \u001b[0;34m=\u001b[0m \u001b[0;34m[\u001b[0m\u001b[0mdl\u001b[0m\u001b[0;34m.\u001b[0m\u001b[0mnew\u001b[0m\u001b[0;34m(\u001b[0m\u001b[0mdl\u001b[0m\u001b[0;34m.\u001b[0m\u001b[0mdataset\u001b[0m\u001b[0;34m.\u001b[0m\u001b[0mnew_empty\u001b[0m\u001b[0;34m(\u001b[0m\u001b[0;34m)\u001b[0m\u001b[0;34m)\u001b[0m \u001b[0;32mfor\u001b[0m \u001b[0mdl\u001b[0m \u001b[0;32min\u001b[0m \u001b[0mself\u001b[0m\u001b[0;34m.\u001b[0m\u001b[0mloaders\u001b[0m\u001b[0;34m]\u001b[0m\u001b[0;34m\u001b[0m\u001b[0;34m\u001b[0m\u001b[0m\n\u001b[0m\u001b[1;32m    147\u001b[0m         \u001b[0;32mreturn\u001b[0m \u001b[0mtype\u001b[0m\u001b[0;34m(\u001b[0m\u001b[0mself\u001b[0m\u001b[0;34m)\u001b[0m\u001b[0;34m(\u001b[0m\u001b[0;34m*\u001b[0m\u001b[0mloaders\u001b[0m\u001b[0;34m,\u001b[0m \u001b[0mpath\u001b[0m\u001b[0;34m=\u001b[0m\u001b[0mself\u001b[0m\u001b[0;34m.\u001b[0m\u001b[0mpath\u001b[0m\u001b[0;34m,\u001b[0m \u001b[0mdevice\u001b[0m\u001b[0;34m=\u001b[0m\u001b[0mself\u001b[0m\u001b[0;34m.\u001b[0m\u001b[0mdevice\u001b[0m\u001b[0;34m)\u001b[0m\u001b[0;34m\u001b[0m\u001b[0;34m\u001b[0m\u001b[0m\n\u001b[1;32m    148\u001b[0m \u001b[0;34m\u001b[0m\u001b[0m\n",
      "\u001b[0;31mAttributeError\u001b[0m: 'DataLoader' object has no attribute 'new'"
     ]
    }
   ],
   "source": [
    "learner.export(learn,'fname=export.pkl')"
   ]
  },
  {
   "cell_type": "code",
   "execution_count": null,
   "metadata": {},
   "outputs": [],
   "source": []
  }
 ],
 "metadata": {
  "kernelspec": {
   "display_name": "Python 3",
   "language": "python",
   "name": "python3"
  },
  "language_info": {
   "codemirror_mode": {
    "name": "ipython",
    "version": 3
   },
   "file_extension": ".py",
   "mimetype": "text/x-python",
   "name": "python",
   "nbconvert_exporter": "python",
   "pygments_lexer": "ipython3",
   "version": "3.8.6"
  },
  "varInspector": {
   "cols": {
    "lenName": 16,
    "lenType": 16,
    "lenVar": 40
   },
   "kernels_config": {
    "python": {
     "delete_cmd_postfix": "",
     "delete_cmd_prefix": "del ",
     "library": "var_list.py",
     "varRefreshCmd": "print(var_dic_list())"
    },
    "r": {
     "delete_cmd_postfix": ") ",
     "delete_cmd_prefix": "rm(",
     "library": "var_list.r",
     "varRefreshCmd": "cat(var_dic_list()) "
    }
   },
   "oldHeight": 526,
   "position": {
    "height": "463px",
    "left": "767px",
    "right": "20px",
    "top": "163px",
    "width": "526px"
   },
   "types_to_exclude": [
    "module",
    "function",
    "builtin_function_or_method",
    "instance",
    "_Feature"
   ],
   "varInspector_section_display": "none",
   "window_display": false
  }
 },
 "nbformat": 4,
 "nbformat_minor": 4
}
