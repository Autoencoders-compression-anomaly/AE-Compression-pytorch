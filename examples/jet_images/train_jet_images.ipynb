{
 "cells": [
  {
   "cell_type": "markdown",
   "metadata": {},
   "source": [
    "# Training and testing a network for jet images"
   ]
  },
  {
   "cell_type": "markdown",
   "metadata": {},
   "source": [
    "This Jupyter Notebook will train and test a network for jet images. The data used is created in examples/process_jet_images \n",
    "\n",
    "to create the dataset that is used here)"
   ]
  },
  {
   "cell_type": "markdown",
   "metadata": {},
   "source": [
    "## Preparing the data"
   ]
  },
  {
   "cell_type": "markdown",
   "metadata": {},
   "source": [
    "Note: You have to change the path to the directory where your processed files are. "
   ]
  },
  {
   "cell_type": "code",
   "execution_count": 28,
   "metadata": {},
   "outputs": [],
   "source": [
    "import pandas as pd\n",
    "\n",
    "# Change this path to point to where you have stored the data: \n",
    "pkl_path = '/Users/nallenallis/Documents/LTH/Exjobb/data/jet images/images/jet_images_LAGAN_images_bg.pkl'\n",
    "\n",
    "# Read the .pkl-file with Pandas\n",
    "df = pd.read_pickle(pkl_path)"
   ]
  },
  {
   "cell_type": "code",
   "execution_count": 29,
   "metadata": {},
   "outputs": [],
   "source": [
    "# Separate the DataFrame into two sets.\n",
    "split = round(0.8*len(df))\n",
    "train = df[:split] # indices 0 to split (80 %)\n",
    "test = df[split:] # indices split to end (20 %)"
   ]
  },
  {
   "cell_type": "markdown",
   "metadata": {},
   "source": [
    "Now we plot the data using the matplotlib library. The units reflect the normalization, but it's the shape that we care about. "
   ]
  },
  {
   "cell_type": "markdown",
   "metadata": {},
   "source": [
    "## Setting up the network"
   ]
  },
  {
   "cell_type": "markdown",
   "metadata": {},
   "source": [
    "### Inputting the data"
   ]
  },
  {
   "cell_type": "markdown",
   "metadata": {},
   "source": [
    "Adding the two datasets as TensorDatasets to PyTorch (also loading all other classes we'll need later)"
   ]
  },
  {
   "cell_type": "code",
   "execution_count": 30,
   "metadata": {},
   "outputs": [],
   "source": [
    "import torch\n",
    "import torch.nn as nn\n",
    "import torch.optim as optim\n",
    "import torch.utils.data\n",
    "from torch.autograd import Variable\n",
    "\n",
    "from torch.utils.data import TensorDataset\n",
    "from torch.utils.data import DataLoader\n",
    "\n",
    "from fastai import learner\n",
    "from fastai.data import core\n",
    "\n",
    "train_x = train\n",
    "test_x = test\n",
    "train_y = train_x  # y = x since we are building an autoencoder\n",
    "test_y = test_x\n",
    "\n",
    "# Constructs a tensor object of the data and wraps them in a TensorDataset object.\n",
    "train_ds = TensorDataset(torch.tensor(train_x.values, dtype=torch.float), torch.tensor(train_y.values, dtype=torch.float))\n",
    "valid_ds = TensorDataset(torch.tensor(test_x.values, dtype=torch.float), torch.tensor(test_y.values, dtype=torch.float))"
   ]
  },
  {
   "cell_type": "markdown",
   "metadata": {},
   "source": [
    "We now set things up to load the data, and we use a batch size that was optimized by previous students...note also that this is fastai v2, migration thanks to Jessica Lastow."
   ]
  },
  {
   "cell_type": "code",
   "execution_count": 31,
   "metadata": {},
   "outputs": [],
   "source": [
    "bs = 256\n",
    "\n",
    "# Converts the TensorDataset into a DataLoader object and combines into one DataLoaders object (a basic wrapper\n",
    "# around several DataLoader objects). \n",
    "train_dl = DataLoader(train_ds, batch_size=bs, shuffle=True)\n",
    "valid_dl = DataLoader(valid_ds, batch_size=bs * 2)\n",
    "dls = core.DataLoaders(train_dl, valid_dl)"
   ]
  },
  {
   "cell_type": "markdown",
   "metadata": {},
   "source": [
    "### Preparing the network"
   ]
  },
  {
   "cell_type": "markdown",
   "metadata": {},
   "source": [
    "Here we have an example network. Details aren't too important, as long as they match what was already trained for us...in this case we have a LeakyReLU, tanh activation function, and a number of layers that goes from 4 to 200 to 20 to 3 (number of features in the hidden layer that we pick for testing compression) and then back all the way to 4. "
   ]
  },
  {
   "cell_type": "code",
   "execution_count": 32,
   "metadata": {},
   "outputs": [
    {
     "data": {
      "text/plain": [
       "AE_3D_200_LeakyReLU_test(\n",
       "  (en1): Linear(in_features=625, out_features=625, bias=True)\n",
       "  (en2): Linear(in_features=625, out_features=625, bias=True)\n",
       "  (de1): Linear(in_features=625, out_features=625, bias=True)\n",
       "  (de2): Linear(in_features=625, out_features=625, bias=True)\n",
       "  (tanh): Tanh()\n",
       ")"
      ]
     },
     "execution_count": 32,
     "metadata": {},
     "output_type": "execute_result"
    }
   ],
   "source": [
    "class AE_3D_200_LeakyReLU_test(nn.Module):\n",
    "    def __init__(self, n_features=625):\n",
    "        super(AE_3D_200_LeakyReLU_test, self).__init__()\n",
    "        #self.en1 = nn.Linear(n_features, 300)\n",
    "        #self.en2 = nn.Linear(300, 100)\n",
    "        #self.de1 = nn.Linear(100, 300)\n",
    "        #self.de2 = nn.Linear(300, n_features)\n",
    "        self.en1 = nn.Linear(n_features, 625)\n",
    "        self.en2 = nn.Linear(625, 625)\n",
    "        self.de1 = nn.Linear(625, 625)\n",
    "        self.de2 = nn.Linear(625, n_features)\n",
    "        self.tanh = nn.Tanh()\n",
    "\n",
    "    def encode(self, x):\n",
    "        return self.en2(self.tanh(self.en1(x)))\n",
    "\n",
    "    def decode(self, x):\n",
    "        return self.de2(self.tanh(self.de1(self.tanh(x))))\n",
    "\n",
    "    def forward(self, x):\n",
    "        z = self.encode(x)\n",
    "        return self.decode(z)\n",
    "\n",
    "    def describe(self):\n",
    "        return 'text'\n",
    "\n",
    "model = AE_3D_200_LeakyReLU_test()\n",
    "model.to('cpu')"
   ]
  },
  {
   "cell_type": "markdown",
   "metadata": {},
   "source": [
    "We now have to pick a loss function - MSE loss is appropriate for a compression autoencoder since it reflects the [(input-output)/input] physical quantity that we want to minimize. "
   ]
  },
  {
   "cell_type": "code",
   "execution_count": 33,
   "metadata": {},
   "outputs": [],
   "source": [
    "from fastai.metrics import mse\n",
    "\n",
    "loss_func = nn.MSELoss()\n",
    "\n",
    "#bn_wd = False  # Don't use weight decay for batchnorm layers\n",
    "#true_wd = True  # weight decay will be used for all optimizers\n",
    "wd = 1e-6\n",
    "\n",
    "recorder = learner.Recorder()\n",
    "learn = learner.Learner(dls, model=model, wd=wd, loss_func=loss_func, cbs=recorder)\n",
    "#was: learn = basic_train.Learner(data=db, model=model, loss_func=loss_func, wd=wd, callback_fns=ActivationStats, bn_wd=bn_wd, true_wd=true_wd)"
   ]
  },
  {
   "cell_type": "markdown",
   "metadata": {},
   "source": [
    "## Alternative 1: Training a new network"
   ]
  },
  {
   "cell_type": "markdown",
   "metadata": {},
   "source": [
    "### Choosing the learning rate"
   ]
  },
  {
   "cell_type": "markdown",
   "metadata": {},
   "source": [
    "First, we want to find the best learning rate. The learning rate is a hyper-paramater that sets how much the weights of the network will change each step with respect to the loss gradient.\n",
    "\n",
    "Then we plot the loss versus the learning rates. We're interested in finding a good order of magnitude of learning rate, so we plot with a log scale.\n",
    "\n",
    "A good value for the learning rates is then either:\n",
    "- one tenth of the minimum before the divergence\n",
    "- when the slope is the steepest"
   ]
  },
  {
   "cell_type": "code",
   "execution_count": 34,
   "metadata": {},
   "outputs": [
    {
     "name": "stdout",
     "output_type": "stream",
     "text": [
      "Learning rate with the minimum loss: 0.0033113110810518267\n",
      "Learning rate with the steepest gradient: 0.013182567432522774\n"
     ]
    },
    {
     "data": {
      "image/png": "[encoded data removed]",
      "text/plain": [
       "<Figure size 432x288 with 1 Axes>"
      ]
     },
     "metadata": {
      "needs_background": "light"
     },
     "output_type": "display_data"
    }
   ],
   "source": [
    "from fastai.callback import schedule\n",
    "\n",
    "lr_min, lr_steep = learn.lr_find()\n",
    "\n",
    "print('Learning rate with the minimum loss:', lr_min)\n",
    "print('Learning rate with the steepest gradient:', lr_steep)"
   ]
  },
  {
   "cell_type": "markdown",
   "metadata": {},
   "source": [
    "### Training the network"
   ]
  },
  {
   "cell_type": "markdown",
   "metadata": {},
   "source": [
    "Now we want to run the training!\n",
    "\n",
    "User-chosen variables:\n",
    "- n_epoch: The number of epochs, i.e how many times the to run through all of the training data once (i.e the 1266046 entries, see cell 2)\n",
    "- lr: The learning rate. Either choose lr_min, lr_steep from above or set your own.\n"
   ]
  },
  {
   "cell_type": "code",
   "execution_count": 35,
   "metadata": {},
   "outputs": [
    {
     "name": "stdout",
     "output_type": "stream",
     "text": [
      "[0, 11.240592002868652, 10.81643009185791, '01:16']\n",
      "[0, 11.240592002868652, 10.81643009185791, '01:16']\n",
      "[1, 1.3644980192184448, 1.219954013824463, '01:09']\n",
      "[1, 1.3644980192184448, 1.219954013824463, '01:09']\n",
      "[2, 0.24153688549995422, 0.23428930342197418, '01:24']\n",
      "[2, 0.24153688549995422, 0.23428930342197418, '01:24']\n",
      "[3, 0.15359346568584442, 0.1538684070110321, '01:22']\n",
      "[3, 0.15359346568584442, 0.1538684070110321, '01:22']\n",
      "[4, 0.12101106345653534, 0.10962861031293869, '01:11']\n",
      "[4, 0.12101106345653534, 0.10962861031293869, '01:11']\n",
      "[5, 0.1103687584400177, 0.09438154846429825, '01:21']\n",
      "[5, 0.1103687584400177, 0.09438154846429825, '01:21']\n",
      "[6, 0.10243873298168182, 0.09241369366645813, '01:05']\n",
      "[6, 0.10243873298168182, 0.09241369366645813, '01:05']\n",
      "[7, 0.08985041081905365, 0.11492646485567093, '01:06']\n",
      "[7, 0.08985041081905365, 0.11492646485567093, '01:06']\n",
      "[8, 0.09479037672281265, 0.07246798276901245, '01:02']\n",
      "[8, 0.09479037672281265, 0.07246798276901245, '01:02']\n",
      "[9, 0.07535892724990845, 0.07168473303318024, '01:02']\n",
      "[9, 0.07535892724990845, 0.07168473303318024, '01:02']\n",
      "[10, 0.07472821325063705, 0.06210624426603317, '01:02']\n",
      "[10, 0.07472821325063705, 0.06210624426603317, '01:02']\n",
      "[11, 0.06814288347959518, 0.061868440359830856, '01:06']\n",
      "[11, 0.06814288347959518, 0.061868440359830856, '01:06']\n",
      "[12, 0.060170434415340424, 0.09521999955177307, '01:03']\n",
      "[12, 0.060170434415340424, 0.09521999955177307, '01:03']\n",
      "[13, 0.05052793025970459, 0.0462610237300396, '01:03']\n",
      "[13, 0.05052793025970459, 0.0462610237300396, '01:03']\n",
      "[14, 0.042093198746442795, 0.04099956527352333, '01:04']\n",
      "[14, 0.042093198746442795, 0.04099956527352333, '01:04']\n",
      "[15, 0.03769252076745033, 0.035311732441186905, '01:03']\n",
      "[15, 0.03769252076745033, 0.035311732441186905, '01:03']\n",
      "[16, 0.03298958018422127, 0.032773301005363464, '01:04']\n",
      "[16, 0.03298958018422127, 0.032773301005363464, '01:04']\n",
      "[17, 0.028801649808883667, 0.028119182214140892, '08:48']\n",
      "[17, 0.028801649808883667, 0.028119182214140892, '08:48']\n",
      "[18, 0.0262466948479414, 0.024017244577407837, '01:48']\n",
      "[18, 0.0262466948479414, 0.024017244577407837, '01:48']\n",
      "[19, 0.02124534547328949, 0.02982579730451107, '01:16']\n",
      "[19, 0.02124534547328949, 0.02982579730451107, '01:16']\n",
      "[20, 0.01938503235578537, 0.01967017538845539, '01:16']\n",
      "[20, 0.01938503235578537, 0.01967017538845539, '01:16']\n",
      "[21, 0.017497168853878975, 0.0174675602465868, '01:08']\n",
      "[21, 0.017497168853878975, 0.0174675602465868, '01:08']\n",
      "[22, 0.015260335057973862, 0.015912065282464027, '01:11']\n",
      "[22, 0.015260335057973862, 0.015912065282464027, '01:11']\n",
      "[23, 0.014433542266488075, 0.014728323556482792, '01:33']\n",
      "[23, 0.014433542266488075, 0.014728323556482792, '01:33']\n",
      "[24, 0.01360359787940979, 0.013919753022491932, '01:23']\n",
      "[24, 0.01360359787940979, 0.013919753022491932, '01:23']\n",
      "[25, 0.012542035430669785, 0.013094829395413399, '01:55']\n",
      "[25, 0.012542035430669785, 0.013094829395413399, '01:55']\n",
      "[26, 0.011893892660737038, 0.012628867290914059, '01:23']\n",
      "[26, 0.011893892660737038, 0.012628867290914059, '01:23']\n",
      "[27, 0.011881710030138493, 0.012281547300517559, '01:15']\n",
      "[27, 0.011881710030138493, 0.012281547300517559, '01:15']\n",
      "[28, 0.01170656830072403, 0.012119270861148834, '01:15']\n",
      "[28, 0.01170656830072403, 0.012119270861148834, '01:15']\n",
      "[29, 0.011804216541349888, 0.012072506360709667, '01:11']\n",
      "[29, 0.011804216541349888, 0.012072506360709667, '01:11']\n",
      "Training took 2277.5087435450005 seconds\n"
     ]
    }
   ],
   "source": [
    "import time\n",
    "\n",
    "start = time.perf_counter() # Starts timer\n",
    "learn.fit_one_cycle(n_epoch=30, lr=lr_min)\n",
    "end = time.perf_counter() # Ends timer\n",
    "delta_t = end - start\n",
    "print('Training took', delta_t, 'seconds')"
   ]
  },
  {
   "cell_type": "markdown",
   "metadata": {},
   "source": [
    "Then we plot the loss as a function of batches and epochs to check if we reach a plateau."
   ]
  },
  {
   "cell_type": "code",
   "execution_count": 36,
   "metadata": {},
   "outputs": [
    {
     "data": {
      "image/png": "[encoded data removed]",
      "text/plain": [
       "<Figure size 432x288 with 1 Axes>"
      ]
     },
     "metadata": {
      "needs_background": "light"
     },
     "output_type": "display_data"
    }
   ],
   "source": [
    "recorder.plot_loss()"
   ]
  },
  {
   "cell_type": "markdown",
   "metadata": {},
   "source": [
    "Then we evaluate the MSE on this network. It should be of the order of 0.001 or less if all has gone well."
   ]
  },
  {
   "cell_type": "code",
   "execution_count": 37,
   "metadata": {},
   "outputs": [
    {
     "data": {
      "text/plain": [
       "(#1) [0.012072506360709667]"
      ]
     },
     "execution_count": 37,
     "metadata": {},
     "output_type": "execute_result"
    }
   ],
   "source": [
    "learn.validate()"
   ]
  },
  {
   "cell_type": "markdown",
   "metadata": {},
   "source": [
    "Saving the trained network in folder /models/"
   ]
  },
  {
   "cell_type": "code",
   "execution_count": 38,
   "metadata": {},
   "outputs": [
    {
     "data": {
      "text/plain": [
       "Path('models/bg_all_img_625-625-625-625-625.pth')"
      ]
     },
     "execution_count": 38,
     "metadata": {},
     "output_type": "execute_result"
    }
   ],
   "source": [
    "learn.save('bg_all_img_625-625-625-625-625')\n",
    "#learn.save('bg_one_img_625-300-100-300-625')"
   ]
  },
  {
   "cell_type": "markdown",
   "metadata": {},
   "source": [
    "## Alternative 2: Using a pre-trained network"
   ]
  },
  {
   "cell_type": "code",
   "execution_count": 18,
   "metadata": {},
   "outputs": [
    {
     "data": {
      "text/plain": [
       "<fastai.learner.Learner at 0x134ddd490>"
      ]
     },
     "execution_count": 18,
     "metadata": {},
     "output_type": "execute_result"
    }
   ],
   "source": [
    "#learn.load('bg_one_img_636-636-636-636')\n",
    "learn.load('bg_all_img_625-625-625-625-625')\n",
    "#learn.load('bg_all_img_625-300-100-300-625')"
   ]
  },
  {
   "cell_type": "code",
   "execution_count": 19,
   "metadata": {},
   "outputs": [
    {
     "data": {
      "text/plain": [
       "(#1) [0.11270393431186676]"
      ]
     },
     "execution_count": 19,
     "metadata": {},
     "output_type": "execute_result"
    }
   ],
   "source": [
    "learn.validate()"
   ]
  },
  {
   "cell_type": "markdown",
   "metadata": {},
   "source": [
    "## Preparing for analysis"
   ]
  },
  {
   "cell_type": "code",
   "execution_count": 39,
   "metadata": {},
   "outputs": [],
   "source": [
    "import os\n",
    "save_dir = \"plotOutput\"\n",
    "if not os.path.exists(save_dir):\n",
    "    os.makedirs(save_dir)"
   ]
  },
  {
   "cell_type": "code",
   "execution_count": 40,
   "metadata": {},
   "outputs": [],
   "source": [
    "import numpy as np\n",
    "\n",
    "model.to('cpu')\n",
    "\n",
    "data = torch.tensor(test.values, dtype=torch.float)\n",
    "pred = model(data)\n",
    "pred = pred.detach().numpy()\n",
    "data = data.detach().numpy()\n",
    "\n",
    "data_df = pd.DataFrame(data, columns=test.columns)\n",
    "pred_df = pd.DataFrame(pred, columns=test.columns)"
   ]
  },
  {
   "cell_type": "code",
   "execution_count": 41,
   "metadata": {},
   "outputs": [],
   "source": [
    "#pred_df.to_pickle(os.path.join(save_dir,'bg_all_img_625-300-100-300-625_output.pkl'))\n",
    "pred_df.to_pickle(os.path.join(save_dir,'bg_all_img_625-625-625-625-625_output.pkl'))"
   ]
  },
  {
   "cell_type": "code",
   "execution_count": null,
   "metadata": {},
   "outputs": [],
   "source": []
  }
 ],
 "metadata": {
  "kernelspec": {
   "display_name": "Python 3",
   "language": "python",
   "name": "python3"
  },
  "language_info": {
   "codemirror_mode": {
    "name": "ipython",
    "version": 3
   },
   "file_extension": ".py",
   "mimetype": "text/x-python",
   "name": "python",
   "nbconvert_exporter": "python",
   "pygments_lexer": "ipython3",
   "version": "3.8.6"
  },
  "varInspector": {
   "cols": {
    "lenName": 16,
    "lenType": 16,
    "lenVar": 40
   },
   "kernels_config": {
    "python": {
     "delete_cmd_postfix": "",
     "delete_cmd_prefix": "del ",
     "library": "var_list.py",
     "varRefreshCmd": "print(var_dic_list())"
    },
    "r": {
     "delete_cmd_postfix": ") ",
     "delete_cmd_prefix": "rm(",
     "library": "var_list.r",
     "varRefreshCmd": "cat(var_dic_list()) "
    }
   },
   "oldHeight": 526,
   "position": {
    "height": "463px",
    "left": "767px",
    "right": "20px",
    "top": "163px",
    "width": "526px"
   },
   "types_to_exclude": [
    "module",
    "function",
    "builtin_function_or_method",
    "instance",
    "_Feature"
   ],
   "varInspector_section_display": "none",
   "window_display": false
  }
 },
 "nbformat": 4,
 "nbformat_minor": 4
}
