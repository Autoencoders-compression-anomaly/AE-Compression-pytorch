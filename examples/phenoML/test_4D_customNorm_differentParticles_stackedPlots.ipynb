{
 "cells": [
  {
   "cell_type": "code",
   "execution_count": 1,
   "metadata": {},
   "outputs": [],
   "source": [
    "%matplotlib inline\n",
    "import sys\n",
    "BIN = '/home/honey/cern/github_repo/AE-Compression-pytorch/'\n",
    "sys.path.append(BIN)\n",
    "import numpy as np\n",
    "import pandas as pd\n",
    "import matplotlib.pyplot as plt\n",
    "\n",
    "import os\n",
    "import torch\n",
    "import torch.nn as nn\n",
    "import torch.optim as optim\n",
    "import torch.utils.data\n",
    "from tqdm.notebook import tqdm\n",
    "from torch.autograd import Variable\n",
    "\n",
    "from torch.utils.data import TensorDataset\n",
    "from torch.utils.data import DataLoader\n",
    "\n",
    "from HEPAutoencoders import utils\n",
    "from scipy import stats\n",
    "import matplotlib as mpl\n",
    "from matplotlib.pyplot import figure\n",
    "\n",
    "from fastai import data_block, basic_train, basic_data\n",
    "import fastai\n",
    "from sklearn.preprocessing import StandardScaler"
   ]
  },
  {
   "cell_type": "code",
   "execution_count": 2,
   "metadata": {
    "scrolled": true
   },
   "outputs": [],
   "source": [
    "from HEPAutoencoders.nn_utils import AE_basic, AE_bn, AE_LeakyReLU, AE_bn_LeakyReLU"
   ]
  },
  {
   "cell_type": "code",
   "execution_count": 4,
   "metadata": {},
   "outputs": [],
   "source": [
    "train = pd.read_pickle('/home/honey/cern/datasets/all_jets_train_4D_100_percent.pkl')\n",
    "testpath = '/home/honey/cern/July/datasets/processed_4D_gluino_02_10fb_'\n",
    "save_dir = 'AE_PhenoML_4D-3D_400ReLU_BN_MSE_Custom-norm_gluino_02'"
   ]
  },
  {
   "cell_type": "code",
   "execution_count": 5,
   "metadata": {},
   "outputs": [
    {
     "name": "stdout",
     "output_type": "stream",
     "text": [
      "5\n"
     ]
    }
   ],
   "source": [
    "test_all = []\n",
    "particle_list = ['g', 'e-', 'e+', 'm-', 'm+']\n",
    "for i in particle_list:\n",
    "    test_all.append(pd.read_pickle(testpath + i + '_4D.pkl'))\n",
    "\n",
    "print(len(test_all))"
   ]
  },
  {
   "cell_type": "code",
   "execution_count": 6,
   "metadata": {},
   "outputs": [],
   "source": [
    "train = train[:200]"
   ]
  },
  {
   "cell_type": "code",
   "execution_count": 7,
   "metadata": {},
   "outputs": [
    {
     "data": {
      "text/html": [
       "<div>\n",
       "<style scoped>\n",
       "    .dataframe tbody tr th:only-of-type {\n",
       "        vertical-align: middle;\n",
       "    }\n",
       "\n",
       "    .dataframe tbody tr th {\n",
       "        vertical-align: top;\n",
       "    }\n",
       "\n",
       "    .dataframe thead th {\n",
       "        text-align: right;\n",
       "    }\n",
       "</style>\n",
       "<table border=\"1\" class=\"dataframe\">\n",
       "  <thead>\n",
       "    <tr style=\"text-align: right;\">\n",
       "      <th></th>\n",
       "      <th>E</th>\n",
       "      <th>pt</th>\n",
       "      <th>eta</th>\n",
       "      <th>phi</th>\n",
       "    </tr>\n",
       "  </thead>\n",
       "  <tbody>\n",
       "    <tr>\n",
       "      <th>0</th>\n",
       "      <td>76918.601562</td>\n",
       "      <td>46416.699219</td>\n",
       "      <td>1.091430</td>\n",
       "      <td>-0.619051</td>\n",
       "    </tr>\n",
       "    <tr>\n",
       "      <th>1</th>\n",
       "      <td>123424.000000</td>\n",
       "      <td>39689.699219</td>\n",
       "      <td>1.800760</td>\n",
       "      <td>3.022060</td>\n",
       "    </tr>\n",
       "    <tr>\n",
       "      <th>2</th>\n",
       "      <td>721167.000000</td>\n",
       "      <td>167497.000000</td>\n",
       "      <td>2.139280</td>\n",
       "      <td>-0.739021</td>\n",
       "    </tr>\n",
       "    <tr>\n",
       "      <th>3</th>\n",
       "      <td>97650.500000</td>\n",
       "      <td>85453.500000</td>\n",
       "      <td>-0.528131</td>\n",
       "      <td>-1.610280</td>\n",
       "    </tr>\n",
       "    <tr>\n",
       "      <th>4</th>\n",
       "      <td>665320.000000</td>\n",
       "      <td>236257.000000</td>\n",
       "      <td>-1.695370</td>\n",
       "      <td>2.874650</td>\n",
       "    </tr>\n",
       "  </tbody>\n",
       "</table>\n",
       "</div>"
      ],
      "text/plain": [
       "               E             pt       eta       phi\n",
       "0   76918.601562   46416.699219  1.091430 -0.619051\n",
       "1  123424.000000   39689.699219  1.800760  3.022060\n",
       "2  721167.000000  167497.000000  2.139280 -0.739021\n",
       "3   97650.500000   85453.500000 -0.528131 -1.610280\n",
       "4  665320.000000  236257.000000 -1.695370  2.874650"
      ]
     },
     "execution_count": 7,
     "metadata": {},
     "output_type": "execute_result"
    }
   ],
   "source": [
    "test_all[0].head()"
   ]
  },
  {
   "cell_type": "code",
   "execution_count": 8,
   "metadata": {},
   "outputs": [],
   "source": [
    "train_ds = TensorDataset(torch.tensor(train.values, dtype=torch.float), torch.tensor(train.values, dtype=torch.float))"
   ]
  },
  {
   "cell_type": "code",
   "execution_count": 9,
   "metadata": {},
   "outputs": [],
   "source": [
    "def get_data(train_ds, valid_ds, bs):\n",
    "    return (\n",
    "        DataLoader(train_ds, batch_size=bs, shuffle=True),\n",
    "        DataLoader(valid_ds, batch_size=bs * 2),\n",
    "    )"
   ]
  },
  {
   "cell_type": "code",
   "execution_count": 10,
   "metadata": {},
   "outputs": [
    {
     "data": {
      "text/plain": [
       "AE_bn_LeakyReLU(\n",
       "  (encoder): Sequential(\n",
       "    (0): Linear(in_features=4, out_features=400, bias=True)\n",
       "    (1): LeakyReLU(negative_slope=0.01)\n",
       "    (2): BatchNorm1d(400, eps=1e-05, momentum=0.1, affine=True, track_running_stats=True)\n",
       "    (3): Linear(in_features=400, out_features=400, bias=True)\n",
       "    (4): LeakyReLU(negative_slope=0.01)\n",
       "    (5): BatchNorm1d(400, eps=1e-05, momentum=0.1, affine=True, track_running_stats=True)\n",
       "    (6): Linear(in_features=400, out_features=200, bias=True)\n",
       "    (7): LeakyReLU(negative_slope=0.01)\n",
       "    (8): BatchNorm1d(200, eps=1e-05, momentum=0.1, affine=True, track_running_stats=True)\n",
       "    (9): Linear(in_features=200, out_features=3, bias=True)\n",
       "    (10): LeakyReLU(negative_slope=0.01)\n",
       "    (11): BatchNorm1d(3, eps=1e-05, momentum=0.1, affine=True, track_running_stats=True)\n",
       "  )\n",
       "  (decoder): Sequential(\n",
       "    (0): Linear(in_features=3, out_features=200, bias=True)\n",
       "    (1): LeakyReLU(negative_slope=0.01)\n",
       "    (2): BatchNorm1d(200, eps=1e-05, momentum=0.1, affine=True, track_running_stats=True)\n",
       "    (3): Linear(in_features=200, out_features=400, bias=True)\n",
       "    (4): LeakyReLU(negative_slope=0.01)\n",
       "    (5): BatchNorm1d(400, eps=1e-05, momentum=0.1, affine=True, track_running_stats=True)\n",
       "    (6): Linear(in_features=400, out_features=400, bias=True)\n",
       "    (7): LeakyReLU(negative_slope=0.01)\n",
       "    (8): BatchNorm1d(400, eps=1e-05, momentum=0.1, affine=True, track_running_stats=True)\n",
       "    (9): Linear(in_features=400, out_features=4, bias=True)\n",
       "  )\n",
       ")"
      ]
     },
     "execution_count": 10,
     "metadata": {},
     "output_type": "execute_result"
    }
   ],
   "source": [
    "nodes = [4, 400, 400, 200, 3, 200, 400, 400, 4]\n",
    "model = AE_bn_LeakyReLU(nodes)\n",
    "model.train()"
   ]
  },
  {
   "cell_type": "code",
   "execution_count": 11,
   "metadata": {},
   "outputs": [],
   "source": [
    "loss_func = nn.MSELoss()"
   ]
  },
  {
   "cell_type": "code",
   "execution_count": 12,
   "metadata": {},
   "outputs": [],
   "source": [
    "wd = 1e-2\n",
    "from fastai.callbacks import ActivationStats"
   ]
  },
  {
   "cell_type": "code",
   "execution_count": 13,
   "metadata": {},
   "outputs": [],
   "source": [
    "def custom_unnormalize(df):\n",
    "    df['eta'] = df['eta'] * 5\n",
    "    df['phi'] = df['phi'] * 3\n",
    "    df['E'] = 10**df['E']\n",
    "    df['pt'] = 10**(df['pt'])\n",
    "    return df"
   ]
  },
  {
   "cell_type": "code",
   "execution_count": 14,
   "metadata": {},
   "outputs": [],
   "source": [
    "residual_strings = [r'$(E_{out} - E_{in}) / E_{in}$',\n",
    "    r'$(p_{T,out} - p_{T,in}) / p_{T,in}$',\n",
    "                        r'$(\\eta_{out} - \\eta_{in})$',\n",
    "                        r'$(\\phi_{out} - \\phi_{in})$',\n",
    "                        ]"
   ]
  },
  {
   "cell_type": "code",
   "execution_count": 15,
   "metadata": {
    "scrolled": false
   },
   "outputs": [
    {
     "data": {
      "application/vnd.jupyter.widget-view+json": {
       "model_id": "703877f4aa914238bc16699b24d587bd",
       "version_major": 2,
       "version_minor": 0
      },
      "text/plain": [
       "HBox(children=(FloatProgress(value=0.0, max=5.0), HTML(value='')))"
      ]
     },
     "metadata": {},
     "output_type": "display_data"
    },
    {
     "data": {
      "text/html": [],
      "text/plain": [
       "<IPython.core.display.HTML object>"
      ]
     },
     "metadata": {},
     "output_type": "display_data"
    },
    {
     "name": "stdout",
     "output_type": "stream",
     "text": [
      "MSE on test-set  g [1.2573055e-05]\n"
     ]
    },
    {
     "data": {
      "text/html": [],
      "text/plain": [
       "<IPython.core.display.HTML object>"
      ]
     },
     "metadata": {},
     "output_type": "display_data"
    },
    {
     "name": "stdout",
     "output_type": "stream",
     "text": [
      "MSE on test-set  e- [5.0873867e-05]\n"
     ]
    },
    {
     "data": {
      "text/html": [],
      "text/plain": [
       "<IPython.core.display.HTML object>"
      ]
     },
     "metadata": {},
     "output_type": "display_data"
    },
    {
     "name": "stdout",
     "output_type": "stream",
     "text": [
      "MSE on test-set  e+ [6.45536e-05]\n"
     ]
    },
    {
     "data": {
      "text/html": [],
      "text/plain": [
       "<IPython.core.display.HTML object>"
      ]
     },
     "metadata": {},
     "output_type": "display_data"
    },
    {
     "name": "stdout",
     "output_type": "stream",
     "text": [
      "MSE on test-set  m- [7.6756885e-05]\n"
     ]
    },
    {
     "data": {
      "text/html": [],
      "text/plain": [
       "<IPython.core.display.HTML object>"
      ]
     },
     "metadata": {},
     "output_type": "display_data"
    },
    {
     "name": "stdout",
     "output_type": "stream",
     "text": [
      "MSE on test-set  m+ [9.127547e-05]\n",
      "\n"
     ]
    }
   ],
   "source": [
    "residuals = []\n",
    "for i in tqdm(range(5)):\n",
    "    test = test_all[i]\n",
    "    variables = test.keys()\n",
    "    test['E'] = test['E'] / 1000.0\n",
    "    test['pt'] = test['pt'] / 1000.0\n",
    "\n",
    "    test['eta'] = test['eta'] / 5\n",
    "    test['phi'] = test['phi'] / 3\n",
    "    test['E'] = np.log10(test['E']) \n",
    "    test['pt'] = np.log10(test['pt'])\n",
    "\n",
    "    valid_ds = TensorDataset(torch.tensor(test.values, dtype=torch.float), torch.tensor(test.values, dtype=torch.float))\n",
    "    train_dl, valid_dl = get_data(train_ds, valid_ds, bs=1024)\n",
    "    \n",
    "    db = basic_data.DataBunch(train_dl, valid_dl)\n",
    "    \n",
    "    learn = basic_train.Learner(data=db, model=model, wd=wd, loss_func=loss_func, callback_fns=ActivationStats, true_wd=True)\n",
    "    \n",
    "    learn.load('best_nn_utils_bs8192_lr1e-04_wd1e-02')\n",
    "    \n",
    "    print('MSE on test-set ', particle_list[i], learn.validate())\n",
    "    \n",
    "    plt.close('all')\n",
    "    unit_list = ['[GeV]', '[rad]', '[rad]', '[GeV]']\n",
    "    variable_list = [r'$p_T$', r'$\\eta$', r'$\\phi$', r'$E$']\n",
    "    line_style = ['--', '-']\n",
    "    colors = ['orange', 'c']\n",
    "    markers = ['*', 's']\n",
    "\n",
    "    model.to('cpu')\n",
    "\n",
    "    # Histograms\n",
    "    idxs = (0, 100000)  # Choose events to compare\n",
    "    data = torch.tensor(test[idxs[0]:idxs[1]].values, dtype=torch.float)\n",
    "    pred = model(data)\n",
    "    pred = pred.detach().numpy()\n",
    "    data = data.detach().numpy()\n",
    "\n",
    "    data_df = pd.DataFrame(data, columns=test.columns)\n",
    "    pred_df = pd.DataFrame(pred, columns=test.columns)\n",
    "\n",
    "    unnormalized_data_df = custom_unnormalize(data_df)\n",
    "    unnormalized_pred_df = custom_unnormalize(pred_df)\n",
    "    \n",
    "    data = unnormalized_data_df\n",
    "    pred = unnormalized_pred_df\n",
    "\n",
    "    r = pred - data\n",
    "    rel_diff_list = ['E',\n",
    "                 'pt',\n",
    "                 ]\n",
    "\n",
    "    for var in rel_diff_list:\n",
    "        r[var] = r[var] / data[var]\n",
    "    residuals.append(r)   "
   ]
  },
  {
   "cell_type": "code",
   "execution_count": 16,
   "metadata": {
    "scrolled": true
   },
   "outputs": [],
   "source": [
    "def sort_key(l): \n",
    "    return len(l)\n",
    "\n",
    "E, pt, phi, eta, nitems = [], [], [], [], {}\n",
    "for j in range(5):\n",
    "    x = residuals[j]\n",
    "    nitems[particle_list[j]] = len(x)\n",
    "    E.append(x['E'])\n",
    "    pt.append(x['pt'])\n",
    "    eta.append(x['eta'])\n",
    "    phi.append(x['phi'])\n",
    "    \n",
    "E.sort(key = sort_key)\n",
    "pt.sort(key = sort_key)\n",
    "eta.sort(key = sort_key)\n",
    "phi.sort(key = sort_key)\n",
    "\n",
    "residuals = [E, pt, eta, phi]\n",
    "nitems = dict(sorted(nitems.items(), key=lambda z: z[1]))"
   ]
  },
  {
   "cell_type": "code",
   "execution_count": 17,
   "metadata": {},
   "outputs": [
    {
     "data": {
      "text/plain": [
       "(1714,\n",
       " 4042,\n",
       " 4138,\n",
       " 5539,\n",
       " 5715,\n",
       " {'g': 1714, 'e+': 4042, 'e-': 4138, 'm-': 5539, 'm+': 5715})"
      ]
     },
     "execution_count": 17,
     "metadata": {},
     "output_type": "execute_result"
    }
   ],
   "source": [
    "len(E[0]), len(E[1]), len(E[2]), len(E[3]), len(E[4]), nitems"
   ]
  },
  {
   "cell_type": "code",
   "execution_count": 18,
   "metadata": {},
   "outputs": [
    {
     "data": {
      "text/plain": [
       "4"
      ]
     },
     "execution_count": 18,
     "metadata": {},
     "output_type": "execute_result"
    }
   ],
   "source": [
    "len(residuals)"
   ]
  },
  {
   "cell_type": "code",
   "execution_count": 19,
   "metadata": {
    "scrolled": false
   },
   "outputs": [
    {
     "data": {
      "image/png": "[encoded data removed]",
      "text/plain": [
       "<Figure size 640x480 with 1 Axes>"
      ]
     },
     "metadata": {},
     "output_type": "display_data"
    },
    {
     "data": {
      "image/png": "[encoded data removed]",
      "text/plain": [
       "<Figure size 640x480 with 1 Axes>"
      ]
     },
     "metadata": {},
     "output_type": "display_data"
    },
    {
     "data": {
      "image/png": "[encoded data removed]",
      "text/plain": [
       "<Figure size 640x480 with 1 Axes>"
      ]
     },
     "metadata": {},
     "output_type": "display_data"
    },
    {
     "data": {
      "image/png": "[encoded data removed]",
      "text/plain": [
       "<Figure size 640x480 with 1 Axes>"
      ]
     },
     "metadata": {},
     "output_type": "display_data"
    }
   ],
   "source": [
    "rang = (-0.02, 0.02)\n",
    "\n",
    "for i in range(len(residuals)):\n",
    "    figure(num=None, figsize=(8, 6), dpi=80, facecolor='w', edgecolor='k')\n",
    "    plt.hist(residuals[i], 100, stacked=True, range=rang, label=nitems.keys(), density=True)\n",
    "    # plt.yscale('log')\n",
    "#     plt.title()\n",
    "    plt.xlabel('Residuals for %s'%variables[i], fontsize=20) \n",
    "    plt.legend(fontsize=9)\n",
    "    plt.ylabel('Number of particles', fontsize = 20)\n",
    "    plt.savefig(save_dir + '_residuals_%s.png'%(variables[i]))\n",
    "    plt.show()"
   ]
  }
 ],
 "metadata": {
  "kernelspec": {
   "display_name": "Python 3",
   "language": "python",
   "name": "python3"
  },
  "language_info": {
   "codemirror_mode": {
    "name": "ipython",
    "version": 3
   },
   "file_extension": ".py",
   "mimetype": "text/x-python",
   "name": "python",
   "nbconvert_exporter": "python",
   "pygments_lexer": "ipython3",
   "version": "3.6.10"
  }
 },
 "nbformat": 4,
 "nbformat_minor": 2
}
